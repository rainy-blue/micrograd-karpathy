{
 "cells": [
  {
   "attachments": {},
   "cell_type": "markdown",
   "metadata": {},
   "source": [
    "Micrograd Scratchpad"
   ]
  },
  {
   "cell_type": "code",
   "execution_count": 26,
   "metadata": {},
   "outputs": [],
   "source": [
    "import math\n",
    "import numpy as np\n",
    "import matplotlib.pyplot as plt\n",
    "%matplotlib inline\n"
   ]
  },
  {
   "cell_type": "code",
   "execution_count": 2,
   "metadata": {},
   "outputs": [],
   "source": [
    "def f(x):\n",
    "    return 3*x**2 - 4*x + 5"
   ]
  },
  {
   "cell_type": "code",
   "execution_count": 10,
   "metadata": {},
   "outputs": [
    {
     "data": {
      "text/plain": [
       "[<matplotlib.lines.Line2D at 0x26dd0159ac0>]"
      ]
     },
     "execution_count": 10,
     "metadata": {},
     "output_type": "execute_result"
    },
    {
     "data": {
      "image/png": "[encoded data removed]",
      "text/plain": [
       "<Figure size 640x480 with 1 Axes>"
      ]
     },
     "metadata": {},
     "output_type": "display_data"
    }
   ],
   "source": [
    "xs = np.arange(-5, 5, 0.1)\n",
    "ys = f(xs)\n",
    "plt.plot(xs, ys)"
   ]
  },
  {
   "cell_type": "code",
   "execution_count": 14,
   "metadata": {},
   "outputs": [
    {
     "name": "stdout",
     "output_type": "stream",
     "text": [
      "d1, 4.0\n",
      "d2, 4.0001\n",
      "slope, 0.9999999999976694\n"
     ]
    }
   ],
   "source": [
    "# defintion of a derivative\n",
    "h = 0.0001\n",
    "\n",
    "#inputs \n",
    "a = 2.0\n",
    "b = -3.0\n",
    "c = 10.0\n",
    "\n",
    "d1 = a*b + c\n",
    "c+=h\n",
    "d2 = a*b + c\n",
    "\n",
    "print(\"d1,\", d1)\n",
    "print(\"d2,\", d2)\n",
    "print(\"slope,\", (d2-d1)/h)\n",
    "\n"
   ]
  },
  {
   "cell_type": "code",
   "execution_count": 136,
   "metadata": {},
   "outputs": [],
   "source": [
    "# basic data structure to maintain mathematical expressions\n",
    "class Value:\n",
    "  \n",
    "    def __init__(self, data, _children=(), _op='', label=''):\n",
    "        self.data = data\n",
    "        self.grad = 0.0                 # default assume no effect on loss function\n",
    "        self._backward = lambda: None   # store function of how to chain output gradient into input gradient\n",
    "        self._prev = set(_children)\n",
    "        self._op = _op\n",
    "        self.label = label\n",
    "\n",
    "    # basically toString method\n",
    "    def __repr__(self):\n",
    "        return f\"Value(data={self.data})\"\n",
    "  \n",
    "    # override default __add__ operator function\n",
    "    def __add__(self, other):\n",
    "        other = other if isinstance(other, Value) else Value(other) # wrap any int with Value\n",
    "        out = Value(self.data + other.data, (self, other), '+')\n",
    "        \n",
    "        def _backward():\n",
    "            self.grad += 1.0 * out.grad   # local derivative * \"global\" derivative (output), wrt output\n",
    "            other.grad += 1.0 * out.grad  # why are these accumulative (+=) not equal (=)? Because if we use same variable, it overrides previously computed gradients \n",
    "        out._backward = _backward   # NOTE: no function call() because we are trying to save the function not the output\n",
    "        \n",
    "        return out\n",
    "\n",
    "    def __mul__(self, other):\n",
    "        other = other if isinstance(other, Value) else Value(other)\n",
    "        out = Value(self.data * other.data, (self, other), '*')\n",
    "        \n",
    "        def _backward():\n",
    "            self.grad += other.data * out.grad\n",
    "            other.grad += self.data * out.grad\n",
    "        out._backward = _backward\n",
    "        \n",
    "        return out\n",
    "    \n",
    "    def __pow__(self, other):\n",
    "        assert isinstance(other, (int, float)), \"only supporting int/float powers for now\"\n",
    "        out = Value(self.data**other, (self,), f'**{other}')\n",
    "\n",
    "        def _backward():\n",
    "            self.grad += other * (self.data ** (other - 1)) * out.grad\n",
    "        out._backward = _backward\n",
    "\n",
    "        return out\n",
    "    \n",
    "    # NOTE: if __mul__ fails, then python will automatically try __rmul__, for cases like a*2 == 2*a\n",
    "    def __rmul__(self, other): # other * self\n",
    "        return self * other\n",
    "\n",
    "    # =========== Implement division ===========\n",
    "    # NOTE: a/b is a*(1/b) which is also a*(b**-1)\n",
    "    # Goal: Implement x**k, k is constant\n",
    "    def __truediv__(self, other): # self / other\n",
    "        return self * other**-1\n",
    "\n",
    "    def __neg__(self): # -self\n",
    "        return self * -1\n",
    "\n",
    "    def __sub__(self, other): # self - other\n",
    "        return self + (-other)\n",
    "\n",
    "    def __radd__(self, other): # other + self\n",
    "        return self + other\n",
    "    \n",
    "    # We can use any function as long as we know how to differentiate it (they can be complex or simple)\n",
    "    # If we know derivative of function, we can backpropagate through it\n",
    "    def tanh(self):\n",
    "        x = self.data\n",
    "        t = (math.exp(2*x) - 1)/(math.exp(2*x) + 1)\n",
    "        out = Value(t, (self, ), 'tanh')\n",
    "        \n",
    "        def _backward():\n",
    "            self.grad += (1 - t**2) * out.grad\n",
    "        out._backward = _backward\n",
    "        \n",
    "        return out\n",
    "    \n",
    "    def exp(self):\n",
    "        x = self.data\n",
    "        out = Value(math.exp(x), (self, ), 'exp')\n",
    "        \n",
    "        def _backward():\n",
    "            self.grad += out.data * out.grad # NOTE: in the video I incorrectly used = instead of +=. Fixed here.\n",
    "        out._backward = _backward\n",
    "        \n",
    "        return out\n",
    "    \n",
    "    \n",
    "    def backward(self):\n",
    "        # Topological Sort (see cell below)\n",
    "        topo = []\n",
    "        visited = set()\n",
    "        def build_topo(v):  # we start at output o node\n",
    "            if v not in visited:\n",
    "                visited.add(v)\n",
    "                for child in v._prev:   # add all children first\n",
    "                    build_topo(child)\n",
    "                topo.append(v)          # add self last\n",
    "        build_topo(self)\n",
    "        \n",
    "        self.grad = 1.0\n",
    "        for node in reversed(topo): # topological sort returns list with children first, root node last --> need to reverse\n",
    "            node._backward()\n",
    "\n",
    "# a = Value(2.0, label = 'a')\n",
    "# b = Value(-3.0, label = 'b')\n",
    "# c = Value(10.0, label = 'c')\n",
    "# e = a*b; e.label = 'e'\n",
    "# d = e + c; d.label = 'd'\n",
    "\n",
    "# # print(\"d =\", d)\n",
    "# # print(\"parents of d:\", d._prev)\n",
    "# # print(\"operator to make d:\", d._op)\n",
    "\n",
    "# f = Value(-2.0, label = 'f')\n",
    "# L = d*f; L.label = 'L'\n"
   ]
  },
  {
   "cell_type": "code",
   "execution_count": 84,
   "metadata": {},
   "outputs": [],
   "source": [
    "# Visualization tool for computing gradients\n",
    "from graphviz import Digraph\n",
    "\n",
    "def trace(root):\n",
    "  # builds a set of all nodes and edges in a graph\n",
    "  nodes, edges = set(), set()\n",
    "  def build(v):\n",
    "    if v not in nodes:\n",
    "      nodes.add(v)\n",
    "      for child in v._prev:\n",
    "        edges.add((child, v))\n",
    "        build(child)\n",
    "  build(root)\n",
    "  return nodes, edges\n",
    "\n",
    "def draw_dot(root):\n",
    "  dot = Digraph(format='svg', graph_attr={'rankdir': 'LR'}) # LR = left to right\n",
    "  \n",
    "  nodes, edges = trace(root)\n",
    "  for n in nodes:\n",
    "    uid = str(id(n))\n",
    "    # for any value in the graph, create a rectangular ('record') node for it\n",
    "    dot.node(name = uid, label = \"{ %s | data %.4f | grad %.4f}\" % (n.label, n.data, n.grad), shape='record')\n",
    "    if n._op:\n",
    "      # if this value is a result of some operation, create an op node for it\n",
    "      dot.node(name = uid + n._op, label = n._op)\n",
    "      # and connect this node to it\n",
    "      dot.edge(uid + n._op, uid)\n",
    "\n",
    "  for n1, n2 in edges:\n",
    "    # connect n1 to the op node of n2\n",
    "    dot.edge(str(id(n1)), str(id(n2)) + n2._op)\n",
    "\n",
    "  return dot"
   ]
  },
  {
   "cell_type": "code",
   "execution_count": 85,
   "metadata": {},
   "outputs": [
    {
     "data": {
      "image/svg+xml": "<?xml version=\"1.0\" encoding=\"UTF-8\" standalone=\"no\"?>\n<!DOCTYPE svg PUBLIC \"-//W3C//DTD SVG 1.1//EN\"\n \"http://www.w3.org/Graphics/SVG/1.1/DTD/svg11.dtd\">\n<!-- Generated by graphviz version 7.1.0 (20230121.1956)\n -->\n<!-- Pages: 1 -->\n<svg width=\"1157pt\" height=\"154pt\"\n viewBox=\"0.00 0.00 1157.00 154.00\" xmlns=\"http://www.w3.org/2000/svg\" xmlns:xlink=\"http://www.w3.org/1999/xlink\">\n<g id=\"graph0\" class=\"graph\" transform=\"scale(1 1) rotate(0) translate(4 150)\">\n<polygon fill=\"white\" stroke=\"none\" points=\"-4,4 -4,-150 1153,-150 1153,4 -4,4\"/>\n<!-- 1801921368128 -->\n<g id=\"node1\" class=\"node\">\n<title>1801921368128</title>\n<polygon fill=\"none\" stroke=\"black\" points=\"639,-109.5 639,-145.5 829,-145.5 829,-109.5 639,-109.5\"/>\n<text text-anchor=\"middle\" x=\"649.5\" y=\"-123.8\" font-family=\"Times New Roman,serif\" font-size=\"14.00\">f</text>\n<polyline fill=\"none\" stroke=\"black\" points=\"660,-109.5 660,-145.5\"/>\n<text text-anchor=\"middle\" x=\"703\" y=\"-123.8\" font-family=\"Times New Roman,serif\" font-size=\"14.00\">data &#45;2.0000</text>\n<polyline fill=\"none\" stroke=\"black\" points=\"746,-109.5 746,-145.5\"/>\n<text text-anchor=\"middle\" x=\"787.5\" y=\"-123.8\" font-family=\"Times New Roman,serif\" font-size=\"14.00\">grad 0.0000</text>\n</g>\n<!-- 1801921371632* -->\n<g id=\"node10\" class=\"node\">\n<title>1801921371632*</title>\n<ellipse fill=\"none\" stroke=\"black\" cx=\"892\" cy=\"-99.5\" rx=\"27\" ry=\"18\"/>\n<text text-anchor=\"middle\" x=\"892\" y=\"-95.8\" font-family=\"Times New Roman,serif\" font-size=\"14.00\">*</text>\n</g>\n<!-- 1801921368128&#45;&gt;1801921371632* -->\n<g id=\"edge9\" class=\"edge\">\n<title>1801921368128&#45;&gt;1801921371632*</title>\n<path fill=\"none\" stroke=\"black\" d=\"M828.9,-110.65C837.81,-109.05 846.43,-107.5 854.28,-106.09\"/>\n<polygon fill=\"black\" stroke=\"black\" points=\"854.8,-109.55 864.02,-104.34 853.56,-102.66 854.8,-109.55\"/>\n</g>\n<!-- 1801921368176 -->\n<g id=\"node2\" class=\"node\">\n<title>1801921368176</title>\n<polygon fill=\"none\" stroke=\"black\" points=\"640,-54.5 640,-90.5 828,-90.5 828,-54.5 640,-54.5\"/>\n<text text-anchor=\"middle\" x=\"652\" y=\"-68.8\" font-family=\"Times New Roman,serif\" font-size=\"14.00\">d</text>\n<polyline fill=\"none\" stroke=\"black\" points=\"664,-54.5 664,-90.5\"/>\n<text text-anchor=\"middle\" x=\"704.5\" y=\"-68.8\" font-family=\"Times New Roman,serif\" font-size=\"14.00\">data 4.0000</text>\n<polyline fill=\"none\" stroke=\"black\" points=\"745,-54.5 745,-90.5\"/>\n<text text-anchor=\"middle\" x=\"786.5\" y=\"-68.8\" font-family=\"Times New Roman,serif\" font-size=\"14.00\">grad 0.0000</text>\n</g>\n<!-- 1801921368176&#45;&gt;1801921371632* -->\n<g id=\"edge4\" class=\"edge\">\n<title>1801921368176&#45;&gt;1801921371632*</title>\n<path fill=\"none\" stroke=\"black\" d=\"M828,-88.6C837.2,-90.19 846.12,-91.73 854.21,-93.13\"/>\n<polygon fill=\"black\" stroke=\"black\" points=\"853.46,-96.55 863.91,-94.81 854.65,-89.66 853.46,-96.55\"/>\n</g>\n<!-- 1801921368176+ -->\n<g id=\"node3\" class=\"node\">\n<title>1801921368176+</title>\n<ellipse fill=\"none\" stroke=\"black\" cx=\"576\" cy=\"-72.5\" rx=\"27\" ry=\"18\"/>\n<text text-anchor=\"middle\" x=\"576\" y=\"-68.8\" font-family=\"Times New Roman,serif\" font-size=\"14.00\">+</text>\n</g>\n<!-- 1801921368176+&#45;&gt;1801921368176 -->\n<g id=\"edge1\" class=\"edge\">\n<title>1801921368176+&#45;&gt;1801921368176</title>\n<path fill=\"none\" stroke=\"black\" d=\"M603.46,-72.5C610.94,-72.5 619.56,-72.5 628.73,-72.5\"/>\n<polygon fill=\"black\" stroke=\"black\" points=\"628.64,-76 638.64,-72.5 628.64,-69 628.64,-76\"/>\n</g>\n<!-- 1801921368224 -->\n<g id=\"node4\" class=\"node\">\n<title>1801921368224</title>\n<polygon fill=\"none\" stroke=\"black\" points=\"319,-82.5 319,-118.5 513,-118.5 513,-82.5 319,-82.5\"/>\n<text text-anchor=\"middle\" x=\"330.5\" y=\"-96.8\" font-family=\"Times New Roman,serif\" font-size=\"14.00\">c</text>\n<polyline fill=\"none\" stroke=\"black\" points=\"342,-82.5 342,-118.5\"/>\n<text text-anchor=\"middle\" x=\"386\" y=\"-96.8\" font-family=\"Times New Roman,serif\" font-size=\"14.00\">data 10.0000</text>\n<polyline fill=\"none\" stroke=\"black\" points=\"430,-82.5 430,-118.5\"/>\n<text text-anchor=\"middle\" x=\"471.5\" y=\"-96.8\" font-family=\"Times New Roman,serif\" font-size=\"14.00\">grad 0.0000</text>\n</g>\n<!-- 1801921368224&#45;&gt;1801921368176+ -->\n<g id=\"edge7\" class=\"edge\">\n<title>1801921368224&#45;&gt;1801921368176+</title>\n<path fill=\"none\" stroke=\"black\" d=\"M512.55,-83.57C521.53,-81.98 530.21,-80.44 538.1,-79.04\"/>\n<polygon fill=\"black\" stroke=\"black\" points=\"538.67,-82.49 547.9,-77.3 537.45,-75.6 538.67,-82.49\"/>\n</g>\n<!-- 1801921371920 -->\n<g id=\"node5\" class=\"node\">\n<title>1801921371920</title>\n<polygon fill=\"none\" stroke=\"black\" points=\"320,-27.5 320,-63.5 512,-63.5 512,-27.5 320,-27.5\"/>\n<text text-anchor=\"middle\" x=\"331.5\" y=\"-41.8\" font-family=\"Times New Roman,serif\" font-size=\"14.00\">e</text>\n<polyline fill=\"none\" stroke=\"black\" points=\"343,-27.5 343,-63.5\"/>\n<text text-anchor=\"middle\" x=\"386\" y=\"-41.8\" font-family=\"Times New Roman,serif\" font-size=\"14.00\">data &#45;6.0000</text>\n<polyline fill=\"none\" stroke=\"black\" points=\"429,-27.5 429,-63.5\"/>\n<text text-anchor=\"middle\" x=\"470.5\" y=\"-41.8\" font-family=\"Times New Roman,serif\" font-size=\"14.00\">grad 0.0000</text>\n</g>\n<!-- 1801921371920&#45;&gt;1801921368176+ -->\n<g id=\"edge5\" class=\"edge\">\n<title>1801921371920&#45;&gt;1801921368176+</title>\n<path fill=\"none\" stroke=\"black\" d=\"M511.65,-61.67C521.01,-63.27 530.06,-64.82 538.26,-66.22\"/>\n<polygon fill=\"black\" stroke=\"black\" points=\"537.65,-69.67 548.1,-67.9 538.83,-62.77 537.65,-69.67\"/>\n</g>\n<!-- 1801921371920* -->\n<g id=\"node6\" class=\"node\">\n<title>1801921371920*</title>\n<ellipse fill=\"none\" stroke=\"black\" cx=\"256\" cy=\"-45.5\" rx=\"27\" ry=\"18\"/>\n<text text-anchor=\"middle\" x=\"256\" y=\"-41.8\" font-family=\"Times New Roman,serif\" font-size=\"14.00\">*</text>\n</g>\n<!-- 1801921371920*&#45;&gt;1801921371920 -->\n<g id=\"edge2\" class=\"edge\">\n<title>1801921371920*&#45;&gt;1801921371920</title>\n<path fill=\"none\" stroke=\"black\" d=\"M283.45,-45.5C290.94,-45.5 299.59,-45.5 308.8,-45.5\"/>\n<polygon fill=\"black\" stroke=\"black\" points=\"308.76,-49 318.76,-45.5 308.76,-42 308.76,-49\"/>\n</g>\n<!-- 1801921370480 -->\n<g id=\"node7\" class=\"node\">\n<title>1801921370480</title>\n<polygon fill=\"none\" stroke=\"black\" points=\"0,-55.5 0,-91.5 193,-91.5 193,-55.5 0,-55.5\"/>\n<text text-anchor=\"middle\" x=\"12\" y=\"-69.8\" font-family=\"Times New Roman,serif\" font-size=\"14.00\">b</text>\n<polyline fill=\"none\" stroke=\"black\" points=\"24,-55.5 24,-91.5\"/>\n<text text-anchor=\"middle\" x=\"67\" y=\"-69.8\" font-family=\"Times New Roman,serif\" font-size=\"14.00\">data &#45;3.0000</text>\n<polyline fill=\"none\" stroke=\"black\" points=\"110,-55.5 110,-91.5\"/>\n<text text-anchor=\"middle\" x=\"151.5\" y=\"-69.8\" font-family=\"Times New Roman,serif\" font-size=\"14.00\">grad 0.0000</text>\n</g>\n<!-- 1801921370480&#45;&gt;1801921371920* -->\n<g id=\"edge8\" class=\"edge\">\n<title>1801921370480&#45;&gt;1801921371920*</title>\n<path fill=\"none\" stroke=\"black\" d=\"M192.75,-56.57C201.7,-54.98 210.35,-53.44 218.21,-52.04\"/>\n<polygon fill=\"black\" stroke=\"black\" points=\"218.75,-55.5 227.99,-50.3 217.53,-48.61 218.75,-55.5\"/>\n</g>\n<!-- 1801921369040 -->\n<g id=\"node8\" class=\"node\">\n<title>1801921369040</title>\n<polygon fill=\"none\" stroke=\"black\" points=\"3,-0.5 3,-36.5 190,-36.5 190,-0.5 3,-0.5\"/>\n<text text-anchor=\"middle\" x=\"14.5\" y=\"-14.8\" font-family=\"Times New Roman,serif\" font-size=\"14.00\">a</text>\n<polyline fill=\"none\" stroke=\"black\" points=\"26,-0.5 26,-36.5\"/>\n<text text-anchor=\"middle\" x=\"66.5\" y=\"-14.8\" font-family=\"Times New Roman,serif\" font-size=\"14.00\">data 2.0000</text>\n<polyline fill=\"none\" stroke=\"black\" points=\"107,-0.5 107,-36.5\"/>\n<text text-anchor=\"middle\" x=\"148.5\" y=\"-14.8\" font-family=\"Times New Roman,serif\" font-size=\"14.00\">grad 0.0000</text>\n</g>\n<!-- 1801921369040&#45;&gt;1801921371920* -->\n<g id=\"edge6\" class=\"edge\">\n<title>1801921369040&#45;&gt;1801921371920*</title>\n<path fill=\"none\" stroke=\"black\" d=\"M189.57,-34.28C199.66,-36.01 209.45,-37.69 218.25,-39.2\"/>\n<polygon fill=\"black\" stroke=\"black\" points=\"217.63,-42.65 228.08,-40.89 218.82,-35.75 217.63,-42.65\"/>\n</g>\n<!-- 1801921371632 -->\n<g id=\"node9\" class=\"node\">\n<title>1801921371632</title>\n<polygon fill=\"none\" stroke=\"black\" points=\"955,-81.5 955,-117.5 1149,-117.5 1149,-81.5 955,-81.5\"/>\n<text text-anchor=\"middle\" x=\"967.5\" y=\"-95.8\" font-family=\"Times New Roman,serif\" font-size=\"14.00\">L</text>\n<polyline fill=\"none\" stroke=\"black\" points=\"980,-81.5 980,-117.5\"/>\n<text text-anchor=\"middle\" x=\"1023\" y=\"-95.8\" font-family=\"Times New Roman,serif\" font-size=\"14.00\">data &#45;8.0000</text>\n<polyline fill=\"none\" stroke=\"black\" points=\"1066,-81.5 1066,-117.5\"/>\n<text text-anchor=\"middle\" x=\"1107.5\" y=\"-95.8\" font-family=\"Times New Roman,serif\" font-size=\"14.00\">grad 0.0000</text>\n</g>\n<!-- 1801921371632*&#45;&gt;1801921371632 -->\n<g id=\"edge3\" class=\"edge\">\n<title>1801921371632*&#45;&gt;1801921371632</title>\n<path fill=\"none\" stroke=\"black\" d=\"M919.45,-99.5C926.67,-99.5 934.97,-99.5 943.82,-99.5\"/>\n<polygon fill=\"black\" stroke=\"black\" points=\"943.75,-103 953.75,-99.5 943.75,-96 943.75,-103\"/>\n</g>\n</g>\n</svg>\n",
      "text/plain": [
       "<graphviz.graphs.Digraph at 0x1a38ade1400>"
      ]
     },
     "execution_count": 85,
     "metadata": {},
     "output_type": "execute_result"
    }
   ],
   "source": [
    "# build out forward pass of mathematical expression\n",
    "draw_dot(L)"
   ]
  },
  {
   "attachments": {},
   "cell_type": "markdown",
   "metadata": {},
   "source": [
    "Backpropagation would just be finding the derivatives of each of the nodes with respect to the result (or in other words, the derivative of the loss function with respect to the weights of the neural network)\n",
    "\n",
    "Need a variable within Value that will store derivative of L with respect to the node (grad)"
   ]
  },
  {
   "cell_type": "code",
   "execution_count": 125,
   "metadata": {},
   "outputs": [],
   "source": [
    "# inputs x1,x2\n",
    "x1 = Value(2.0, label='x1')\n",
    "x2 = Value(0.0, label='x2')\n",
    "# weights w1,w2\n",
    "w1 = Value(-3.0, label='w1')\n",
    "w2 = Value(1.0, label='w2')\n",
    "# bias of the neuron\n",
    "b = Value(6.8813735870195432, label='b')\n",
    "# x1*w1 + x2*w2 + b\n",
    "x1w1 = x1*w1; x1w1.label = 'x1*w1'\n",
    "x2w2 = x2*w2; x2w2.label = 'x2*w2'\n",
    "x1w1x2w2 = x1w1 + x2w2; x1w1x2w2.label = 'x1*w1 + x2*w2'\n",
    "n = x1w1x2w2 + b; n.label = 'n'\n",
    "o = n.tanh(); o.label = 'o'"
   ]
  },
  {
   "cell_type": "code",
   "execution_count": 128,
   "metadata": {},
   "outputs": [
    {
     "data": {
      "image/svg+xml": "<?xml version=\"1.0\" encoding=\"UTF-8\" standalone=\"no\"?>\n<!DOCTYPE svg PUBLIC \"-//W3C//DTD SVG 1.1//EN\"\n \"http://www.w3.org/Graphics/SVG/1.1/DTD/svg11.dtd\">\n<!-- Generated by graphviz version 7.1.0 (20230121.1956)\n -->\n<!-- Pages: 1 -->\n<svg width=\"1586pt\" height=\"210pt\"\n viewBox=\"0.00 0.00 1586.00 210.00\" xmlns=\"http://www.w3.org/2000/svg\" xmlns:xlink=\"http://www.w3.org/1999/xlink\">\n<g id=\"graph0\" class=\"graph\" transform=\"scale(1 1) rotate(0) translate(4 206)\">\n<polygon fill=\"white\" stroke=\"none\" points=\"-4,4 -4,-206 1582,-206 1582,4 -4,4\"/>\n<!-- 1801921109008 -->\n<g id=\"node1\" class=\"node\">\n<title>1801921109008</title>\n<polygon fill=\"none\" stroke=\"black\" points=\"328,-55.5 328,-91.5 550,-91.5 550,-55.5 328,-55.5\"/>\n<text text-anchor=\"middle\" x=\"354.5\" y=\"-69.8\" font-family=\"Times New Roman,serif\" font-size=\"14.00\">x1*w1</text>\n<polyline fill=\"none\" stroke=\"black\" points=\"381,-55.5 381,-91.5\"/>\n<text text-anchor=\"middle\" x=\"424\" y=\"-69.8\" font-family=\"Times New Roman,serif\" font-size=\"14.00\">data &#45;6.0000</text>\n<polyline fill=\"none\" stroke=\"black\" points=\"467,-55.5 467,-91.5\"/>\n<text text-anchor=\"middle\" x=\"508.5\" y=\"-69.8\" font-family=\"Times New Roman,serif\" font-size=\"14.00\">grad 0.5000</text>\n</g>\n<!-- 1801921335840+ -->\n<g id=\"node4\" class=\"node\">\n<title>1801921335840+</title>\n<ellipse fill=\"none\" stroke=\"black\" cx=\"613\" cy=\"-100.5\" rx=\"27\" ry=\"18\"/>\n<text text-anchor=\"middle\" x=\"613\" y=\"-96.8\" font-family=\"Times New Roman,serif\" font-size=\"14.00\">+</text>\n</g>\n<!-- 1801921109008&#45;&gt;1801921335840+ -->\n<g id=\"edge10\" class=\"edge\">\n<title>1801921109008&#45;&gt;1801921335840+</title>\n<path fill=\"none\" stroke=\"black\" d=\"M549.9,-90.75C558.72,-92.14 567.17,-93.46 574.84,-94.67\"/>\n<polygon fill=\"black\" stroke=\"black\" points=\"574.29,-98.12 584.71,-96.22 575.37,-91.21 574.29,-98.12\"/>\n</g>\n<!-- 1801921109008* -->\n<g id=\"node2\" class=\"node\">\n<title>1801921109008*</title>\n<ellipse fill=\"none\" stroke=\"black\" cx=\"265\" cy=\"-73.5\" rx=\"27\" ry=\"18\"/>\n<text text-anchor=\"middle\" x=\"265\" y=\"-69.8\" font-family=\"Times New Roman,serif\" font-size=\"14.00\">*</text>\n</g>\n<!-- 1801921109008*&#45;&gt;1801921109008 -->\n<g id=\"edge1\" class=\"edge\">\n<title>1801921109008*&#45;&gt;1801921109008</title>\n<path fill=\"none\" stroke=\"black\" d=\"M292.5,-73.5C299.65,-73.5 307.89,-73.5 316.72,-73.5\"/>\n<polygon fill=\"black\" stroke=\"black\" points=\"316.69,-77 326.68,-73.5 316.68,-70 316.69,-77\"/>\n</g>\n<!-- 1801921335840 -->\n<g id=\"node3\" class=\"node\">\n<title>1801921335840</title>\n<polygon fill=\"none\" stroke=\"black\" points=\"676,-82.5 676,-118.5 951,-118.5 951,-82.5 676,-82.5\"/>\n<text text-anchor=\"middle\" x=\"729\" y=\"-96.8\" font-family=\"Times New Roman,serif\" font-size=\"14.00\">x1*w1 + x2*w2</text>\n<polyline fill=\"none\" stroke=\"black\" points=\"782,-82.5 782,-118.5\"/>\n<text text-anchor=\"middle\" x=\"825\" y=\"-96.8\" font-family=\"Times New Roman,serif\" font-size=\"14.00\">data &#45;6.0000</text>\n<polyline fill=\"none\" stroke=\"black\" points=\"868,-82.5 868,-118.5\"/>\n<text text-anchor=\"middle\" x=\"909.5\" y=\"-96.8\" font-family=\"Times New Roman,serif\" font-size=\"14.00\">grad 0.5000</text>\n</g>\n<!-- 1801921336896+ -->\n<g id=\"node6\" class=\"node\">\n<title>1801921336896+</title>\n<ellipse fill=\"none\" stroke=\"black\" cx=\"1014\" cy=\"-127.5\" rx=\"27\" ry=\"18\"/>\n<text text-anchor=\"middle\" x=\"1014\" y=\"-123.8\" font-family=\"Times New Roman,serif\" font-size=\"14.00\">+</text>\n</g>\n<!-- 1801921335840&#45;&gt;1801921336896+ -->\n<g id=\"edge12\" class=\"edge\">\n<title>1801921335840&#45;&gt;1801921336896+</title>\n<path fill=\"none\" stroke=\"black\" d=\"M946.63,-118.47C957.13,-119.9 967.07,-121.25 975.91,-122.46\"/>\n<polygon fill=\"black\" stroke=\"black\" points=\"975.36,-125.91 985.74,-123.79 976.3,-118.98 975.36,-125.91\"/>\n</g>\n<!-- 1801921335840+&#45;&gt;1801921335840 -->\n<g id=\"edge2\" class=\"edge\">\n<title>1801921335840+&#45;&gt;1801921335840</title>\n<path fill=\"none\" stroke=\"black\" d=\"M640.36,-100.5C647.56,-100.5 655.89,-100.5 664.94,-100.5\"/>\n<polygon fill=\"black\" stroke=\"black\" points=\"664.78,-104 674.78,-100.5 664.78,-97 664.78,-104\"/>\n</g>\n<!-- 1801921336896 -->\n<g id=\"node5\" class=\"node\">\n<title>1801921336896</title>\n<polygon fill=\"none\" stroke=\"black\" points=\"1077,-109.5 1077,-145.5 1264,-145.5 1264,-109.5 1077,-109.5\"/>\n<text text-anchor=\"middle\" x=\"1088.5\" y=\"-123.8\" font-family=\"Times New Roman,serif\" font-size=\"14.00\">n</text>\n<polyline fill=\"none\" stroke=\"black\" points=\"1100,-109.5 1100,-145.5\"/>\n<text text-anchor=\"middle\" x=\"1140.5\" y=\"-123.8\" font-family=\"Times New Roman,serif\" font-size=\"14.00\">data 0.8814</text>\n<polyline fill=\"none\" stroke=\"black\" points=\"1181,-109.5 1181,-145.5\"/>\n<text text-anchor=\"middle\" x=\"1222.5\" y=\"-123.8\" font-family=\"Times New Roman,serif\" font-size=\"14.00\">grad 0.5000</text>\n</g>\n<!-- 1801921335456tanh -->\n<g id=\"node9\" class=\"node\">\n<title>1801921335456tanh</title>\n<ellipse fill=\"none\" stroke=\"black\" cx=\"1327\" cy=\"-127.5\" rx=\"27\" ry=\"18\"/>\n<text text-anchor=\"middle\" x=\"1327\" y=\"-123.8\" font-family=\"Times New Roman,serif\" font-size=\"14.00\">tanh</text>\n</g>\n<!-- 1801921336896&#45;&gt;1801921335456tanh -->\n<g id=\"edge13\" class=\"edge\">\n<title>1801921336896&#45;&gt;1801921335456tanh</title>\n<path fill=\"none\" stroke=\"black\" d=\"M1263.6,-127.5C1272.26,-127.5 1280.65,-127.5 1288.33,-127.5\"/>\n<polygon fill=\"black\" stroke=\"black\" points=\"1288.23,-131 1298.23,-127.5 1288.23,-124 1288.23,-131\"/>\n</g>\n<!-- 1801921336896+&#45;&gt;1801921336896 -->\n<g id=\"edge3\" class=\"edge\">\n<title>1801921336896+&#45;&gt;1801921336896</title>\n<path fill=\"none\" stroke=\"black\" d=\"M1041.21,-127.5C1048.47,-127.5 1056.83,-127.5 1065.71,-127.5\"/>\n<polygon fill=\"black\" stroke=\"black\" points=\"1065.7,-131 1075.7,-127.5 1065.7,-124 1065.7,-131\"/>\n</g>\n<!-- 1801920040528 -->\n<g id=\"node7\" class=\"node\">\n<title>1801920040528</title>\n<polygon fill=\"none\" stroke=\"black\" points=\"4,-165.5 4,-201.5 198,-201.5 198,-165.5 4,-165.5\"/>\n<text text-anchor=\"middle\" x=\"19\" y=\"-179.8\" font-family=\"Times New Roman,serif\" font-size=\"14.00\">x2</text>\n<polyline fill=\"none\" stroke=\"black\" points=\"34,-165.5 34,-201.5\"/>\n<text text-anchor=\"middle\" x=\"74.5\" y=\"-179.8\" font-family=\"Times New Roman,serif\" font-size=\"14.00\">data 0.0000</text>\n<polyline fill=\"none\" stroke=\"black\" points=\"115,-165.5 115,-201.5\"/>\n<text text-anchor=\"middle\" x=\"156.5\" y=\"-179.8\" font-family=\"Times New Roman,serif\" font-size=\"14.00\">grad 0.5000</text>\n</g>\n<!-- 1801921336512* -->\n<g id=\"node12\" class=\"node\">\n<title>1801921336512*</title>\n<ellipse fill=\"none\" stroke=\"black\" cx=\"265\" cy=\"-128.5\" rx=\"27\" ry=\"18\"/>\n<text text-anchor=\"middle\" x=\"265\" y=\"-124.8\" font-family=\"Times New Roman,serif\" font-size=\"14.00\">*</text>\n</g>\n<!-- 1801920040528&#45;&gt;1801921336512* -->\n<g id=\"edge11\" class=\"edge\">\n<title>1801920040528&#45;&gt;1801921336512*</title>\n<path fill=\"none\" stroke=\"black\" d=\"M173.99,-165.56C183.48,-162.75 193.03,-159.71 202,-156.5 212.1,-152.88 222.83,-148.31 232.49,-143.91\"/>\n<polygon fill=\"black\" stroke=\"black\" points=\"233.88,-147.12 241.46,-139.72 230.92,-140.78 233.88,-147.12\"/>\n</g>\n<!-- 1801921335456 -->\n<g id=\"node8\" class=\"node\">\n<title>1801921335456</title>\n<polygon fill=\"none\" stroke=\"black\" points=\"1390,-109.5 1390,-145.5 1578,-145.5 1578,-109.5 1390,-109.5\"/>\n<text text-anchor=\"middle\" x=\"1402\" y=\"-123.8\" font-family=\"Times New Roman,serif\" font-size=\"14.00\">o</text>\n<polyline fill=\"none\" stroke=\"black\" points=\"1414,-109.5 1414,-145.5\"/>\n<text text-anchor=\"middle\" x=\"1454.5\" y=\"-123.8\" font-family=\"Times New Roman,serif\" font-size=\"14.00\">data 0.7071</text>\n<polyline fill=\"none\" stroke=\"black\" points=\"1495,-109.5 1495,-145.5\"/>\n<text text-anchor=\"middle\" x=\"1536.5\" y=\"-123.8\" font-family=\"Times New Roman,serif\" font-size=\"14.00\">grad 1.0000</text>\n</g>\n<!-- 1801921335456tanh&#45;&gt;1801921335456 -->\n<g id=\"edge4\" class=\"edge\">\n<title>1801921335456tanh&#45;&gt;1801921335456</title>\n<path fill=\"none\" stroke=\"black\" d=\"M1354.29,-127.5C1361.52,-127.5 1369.82,-127.5 1378.66,-127.5\"/>\n<polygon fill=\"black\" stroke=\"black\" points=\"1378.57,-131 1388.57,-127.5 1378.57,-124 1378.57,-131\"/>\n</g>\n<!-- 1801921107136 -->\n<g id=\"node10\" class=\"node\">\n<title>1801921107136</title>\n<polygon fill=\"none\" stroke=\"black\" points=\"0,-55.5 0,-91.5 202,-91.5 202,-55.5 0,-55.5\"/>\n<text text-anchor=\"middle\" x=\"16.5\" y=\"-69.8\" font-family=\"Times New Roman,serif\" font-size=\"14.00\">w1</text>\n<polyline fill=\"none\" stroke=\"black\" points=\"33,-55.5 33,-91.5\"/>\n<text text-anchor=\"middle\" x=\"76\" y=\"-69.8\" font-family=\"Times New Roman,serif\" font-size=\"14.00\">data &#45;3.0000</text>\n<polyline fill=\"none\" stroke=\"black\" points=\"119,-55.5 119,-91.5\"/>\n<text text-anchor=\"middle\" x=\"160.5\" y=\"-69.8\" font-family=\"Times New Roman,serif\" font-size=\"14.00\">grad 1.0000</text>\n</g>\n<!-- 1801921107136&#45;&gt;1801921109008* -->\n<g id=\"edge14\" class=\"edge\">\n<title>1801921107136&#45;&gt;1801921109008*</title>\n<path fill=\"none\" stroke=\"black\" d=\"M201.83,-73.5C210.46,-73.5 218.79,-73.5 226.4,-73.5\"/>\n<polygon fill=\"black\" stroke=\"black\" points=\"226.18,-77 236.18,-73.5 226.18,-70 226.18,-77\"/>\n</g>\n<!-- 1801921336512 -->\n<g id=\"node11\" class=\"node\">\n<title>1801921336512</title>\n<polygon fill=\"none\" stroke=\"black\" points=\"330.5,-110.5 330.5,-146.5 547.5,-146.5 547.5,-110.5 330.5,-110.5\"/>\n<text text-anchor=\"middle\" x=\"357\" y=\"-124.8\" font-family=\"Times New Roman,serif\" font-size=\"14.00\">x2*w2</text>\n<polyline fill=\"none\" stroke=\"black\" points=\"383.5,-110.5 383.5,-146.5\"/>\n<text text-anchor=\"middle\" x=\"424\" y=\"-124.8\" font-family=\"Times New Roman,serif\" font-size=\"14.00\">data 0.0000</text>\n<polyline fill=\"none\" stroke=\"black\" points=\"464.5,-110.5 464.5,-146.5\"/>\n<text text-anchor=\"middle\" x=\"506\" y=\"-124.8\" font-family=\"Times New Roman,serif\" font-size=\"14.00\">grad 0.5000</text>\n</g>\n<!-- 1801921336512&#45;&gt;1801921335840+ -->\n<g id=\"edge6\" class=\"edge\">\n<title>1801921336512&#45;&gt;1801921335840+</title>\n<path fill=\"none\" stroke=\"black\" d=\"M547.46,-111.01C557.25,-109.41 566.64,-107.88 575.08,-106.51\"/>\n<polygon fill=\"black\" stroke=\"black\" points=\"575.52,-109.98 584.83,-104.92 574.4,-103.08 575.52,-109.98\"/>\n</g>\n<!-- 1801921336512*&#45;&gt;1801921336512 -->\n<g id=\"edge5\" class=\"edge\">\n<title>1801921336512*&#45;&gt;1801921336512</title>\n<path fill=\"none\" stroke=\"black\" d=\"M292.5,-128.5C300.37,-128.5 309.55,-128.5 319.4,-128.5\"/>\n<polygon fill=\"black\" stroke=\"black\" points=\"319.25,-132 329.25,-128.5 319.25,-125 319.25,-132\"/>\n</g>\n<!-- 1801921107280 -->\n<g id=\"node13\" class=\"node\">\n<title>1801921107280</title>\n<polygon fill=\"none\" stroke=\"black\" points=\"2,-0.5 2,-36.5 200,-36.5 200,-0.5 2,-0.5\"/>\n<text text-anchor=\"middle\" x=\"17\" y=\"-14.8\" font-family=\"Times New Roman,serif\" font-size=\"14.00\">x1</text>\n<polyline fill=\"none\" stroke=\"black\" points=\"32,-0.5 32,-36.5\"/>\n<text text-anchor=\"middle\" x=\"72.5\" y=\"-14.8\" font-family=\"Times New Roman,serif\" font-size=\"14.00\">data 2.0000</text>\n<polyline fill=\"none\" stroke=\"black\" points=\"113,-0.5 113,-36.5\"/>\n<text text-anchor=\"middle\" x=\"156.5\" y=\"-14.8\" font-family=\"Times New Roman,serif\" font-size=\"14.00\">grad &#45;1.5000</text>\n</g>\n<!-- 1801921107280&#45;&gt;1801921109008* -->\n<g id=\"edge8\" class=\"edge\">\n<title>1801921107280&#45;&gt;1801921109008*</title>\n<path fill=\"none\" stroke=\"black\" d=\"M170.98,-36.47C181.45,-39.58 192.06,-42.96 202,-46.5 211.97,-50.05 222.6,-54.44 232.19,-58.65\"/>\n<polygon fill=\"black\" stroke=\"black\" points=\"230.55,-61.75 241.11,-62.64 233.41,-55.36 230.55,-61.75\"/>\n</g>\n<!-- 1801921107904 -->\n<g id=\"node14\" class=\"node\">\n<title>1801921107904</title>\n<polygon fill=\"none\" stroke=\"black\" points=\"719.5,-137.5 719.5,-173.5 907.5,-173.5 907.5,-137.5 719.5,-137.5\"/>\n<text text-anchor=\"middle\" x=\"731.5\" y=\"-151.8\" font-family=\"Times New Roman,serif\" font-size=\"14.00\">b</text>\n<polyline fill=\"none\" stroke=\"black\" points=\"743.5,-137.5 743.5,-173.5\"/>\n<text text-anchor=\"middle\" x=\"784\" y=\"-151.8\" font-family=\"Times New Roman,serif\" font-size=\"14.00\">data 6.8814</text>\n<polyline fill=\"none\" stroke=\"black\" points=\"824.5,-137.5 824.5,-173.5\"/>\n<text text-anchor=\"middle\" x=\"866\" y=\"-151.8\" font-family=\"Times New Roman,serif\" font-size=\"14.00\">grad 0.5000</text>\n</g>\n<!-- 1801921107904&#45;&gt;1801921336896+ -->\n<g id=\"edge7\" class=\"edge\">\n<title>1801921107904&#45;&gt;1801921336896+</title>\n<path fill=\"none\" stroke=\"black\" d=\"M907.36,-142.4C931.59,-138.98 956.33,-135.49 975.77,-132.75\"/>\n<polygon fill=\"black\" stroke=\"black\" points=\"976.23,-136.22 985.64,-131.36 975.25,-129.29 976.23,-136.22\"/>\n</g>\n<!-- 1801921109968 -->\n<g id=\"node15\" class=\"node\">\n<title>1801921109968</title>\n<polygon fill=\"none\" stroke=\"black\" points=\"2.5,-110.5 2.5,-146.5 199.5,-146.5 199.5,-110.5 2.5,-110.5\"/>\n<text text-anchor=\"middle\" x=\"19\" y=\"-124.8\" font-family=\"Times New Roman,serif\" font-size=\"14.00\">w2</text>\n<polyline fill=\"none\" stroke=\"black\" points=\"35.5,-110.5 35.5,-146.5\"/>\n<text text-anchor=\"middle\" x=\"76\" y=\"-124.8\" font-family=\"Times New Roman,serif\" font-size=\"14.00\">data 1.0000</text>\n<polyline fill=\"none\" stroke=\"black\" points=\"116.5,-110.5 116.5,-146.5\"/>\n<text text-anchor=\"middle\" x=\"158\" y=\"-124.8\" font-family=\"Times New Roman,serif\" font-size=\"14.00\">grad 0.0000</text>\n</g>\n<!-- 1801921109968&#45;&gt;1801921336512* -->\n<g id=\"edge9\" class=\"edge\">\n<title>1801921109968&#45;&gt;1801921336512*</title>\n<path fill=\"none\" stroke=\"black\" d=\"M199.04,-128.5C208.66,-128.5 217.96,-128.5 226.38,-128.5\"/>\n<polygon fill=\"black\" stroke=\"black\" points=\"226.12,-132 236.12,-128.5 226.12,-125 226.12,-132\"/>\n</g>\n</g>\n</svg>\n",
      "text/plain": [
       "<graphviz.graphs.Digraph at 0x1a38acdcdf0>"
      ]
     },
     "execution_count": 128,
     "metadata": {},
     "output_type": "execute_result"
    }
   ],
   "source": [
    "draw_dot(o)"
   ]
  },
  {
   "cell_type": "code",
   "execution_count": 127,
   "metadata": {},
   "outputs": [],
   "source": [
    "# Manually Calling Backwards Function \n",
    "o.grad = 1.0\n",
    "o._backward()\n",
    "\n",
    "n._backward()\n",
    "\n",
    "b._backward() # does nothing cause leaf node\n",
    "\n",
    "x1w1x2w2._backward()\n",
    "\n",
    "x2w2._backward()\n",
    "x1w1._backward()"
   ]
  },
  {
   "attachments": {},
   "cell_type": "markdown",
   "metadata": {},
   "source": [
    "Backpropagation Outline\n",
    "- Call _backward() on a node only after all dependencies are computed (i.e. nodes after it)\n",
    "  - **use topological sort to obtain ordering**\n",
    "  n._backward()"
   ]
  },
  {
   "cell_type": "code",
   "execution_count": 52,
   "metadata": {},
   "outputs": [],
   "source": [
    "# # Topological Sort Implementation\n",
    "# o.grad = 1.0 # initialize o, always \n",
    "\n",
    "# topo = []\n",
    "# visited = set()\n",
    "# def build_topo(v): # we start at output o node\n",
    "#   if v not in visited:\n",
    "#     visited.add(v)\n",
    "#     for child in v._prev:   # add all children first\n",
    "#       build_topo(child)    \n",
    "#     topo.append(v)          # add self last \n",
    "# build_topo(o)\n",
    "\n",
    "# for node in reversed(topo): # topological sort returns list with children first, root node last --> need to reverse\n",
    "#     node._backward()"
   ]
  },
  {
   "cell_type": "code",
   "execution_count": 57,
   "metadata": {},
   "outputs": [],
   "source": [
    "o.backward()"
   ]
  },
  {
   "cell_type": "code",
   "execution_count": 129,
   "metadata": {},
   "outputs": [
    {
     "data": {
      "image/svg+xml": "<?xml version=\"1.0\" encoding=\"UTF-8\" standalone=\"no\"?>\n<!DOCTYPE svg PUBLIC \"-//W3C//DTD SVG 1.1//EN\"\n \"http://www.w3.org/Graphics/SVG/1.1/DTD/svg11.dtd\">\n<!-- Generated by graphviz version 7.1.0 (20230121.1956)\n -->\n<!-- Pages: 1 -->\n<svg width=\"509pt\" height=\"45pt\"\n viewBox=\"0.00 0.00 509.00 45.00\" xmlns=\"http://www.w3.org/2000/svg\" xmlns:xlink=\"http://www.w3.org/1999/xlink\">\n<g id=\"graph0\" class=\"graph\" transform=\"scale(1 1) rotate(0) translate(4 41)\">\n<polygon fill=\"white\" stroke=\"none\" points=\"-4,4 -4,-41 505,-41 505,4 -4,4\"/>\n<!-- 1801921109920 -->\n<g id=\"node1\" class=\"node\">\n<title>1801921109920</title>\n<polygon fill=\"none\" stroke=\"black\" points=\"313,-0.5 313,-36.5 501,-36.5 501,-0.5 313,-0.5\"/>\n<text text-anchor=\"middle\" x=\"325\" y=\"-14.8\" font-family=\"Times New Roman,serif\" font-size=\"14.00\">b</text>\n<polyline fill=\"none\" stroke=\"black\" points=\"337,-0.5 337,-36.5\"/>\n<text text-anchor=\"middle\" x=\"377.5\" y=\"-14.8\" font-family=\"Times New Roman,serif\" font-size=\"14.00\">data 6.0000</text>\n<polyline fill=\"none\" stroke=\"black\" points=\"418,-0.5 418,-36.5\"/>\n<text text-anchor=\"middle\" x=\"459.5\" y=\"-14.8\" font-family=\"Times New Roman,serif\" font-size=\"14.00\">grad 1.0000</text>\n</g>\n<!-- 1801921109920+ -->\n<g id=\"node2\" class=\"node\">\n<title>1801921109920+</title>\n<ellipse fill=\"none\" stroke=\"black\" cx=\"250\" cy=\"-18.5\" rx=\"27\" ry=\"18\"/>\n<text text-anchor=\"middle\" x=\"250\" y=\"-14.8\" font-family=\"Times New Roman,serif\" font-size=\"14.00\">+</text>\n</g>\n<!-- 1801921109920+&#45;&gt;1801921109920 -->\n<g id=\"edge1\" class=\"edge\">\n<title>1801921109920+&#45;&gt;1801921109920</title>\n<path fill=\"none\" stroke=\"black\" d=\"M277.29,-18.5C284.52,-18.5 292.82,-18.5 301.66,-18.5\"/>\n<polygon fill=\"black\" stroke=\"black\" points=\"301.57,-22 311.57,-18.5 301.57,-15 301.57,-22\"/>\n</g>\n<!-- 1801921107424 -->\n<g id=\"node3\" class=\"node\">\n<title>1801921107424</title>\n<polygon fill=\"none\" stroke=\"black\" points=\"0,-0.5 0,-36.5 187,-36.5 187,-0.5 0,-0.5\"/>\n<text text-anchor=\"middle\" x=\"11.5\" y=\"-14.8\" font-family=\"Times New Roman,serif\" font-size=\"14.00\">a</text>\n<polyline fill=\"none\" stroke=\"black\" points=\"23,-0.5 23,-36.5\"/>\n<text text-anchor=\"middle\" x=\"63.5\" y=\"-14.8\" font-family=\"Times New Roman,serif\" font-size=\"14.00\">data 3.0000</text>\n<polyline fill=\"none\" stroke=\"black\" points=\"104,-0.5 104,-36.5\"/>\n<text text-anchor=\"middle\" x=\"145.5\" y=\"-14.8\" font-family=\"Times New Roman,serif\" font-size=\"14.00\">grad 2.0000</text>\n</g>\n<!-- 1801921107424&#45;&gt;1801921109920+ -->\n<g id=\"edge2\" class=\"edge\">\n<title>1801921107424&#45;&gt;1801921109920+</title>\n<path fill=\"none\" stroke=\"black\" d=\"M186.6,-18.5C195.26,-18.5 203.65,-18.5 211.33,-18.5\"/>\n<polygon fill=\"black\" stroke=\"black\" points=\"211.23,-22 221.23,-18.5 211.23,-15 211.23,-22\"/>\n</g>\n</g>\n</svg>\n",
      "text/plain": [
       "<graphviz.graphs.Digraph at 0x1a38ade1df0>"
      ]
     },
     "execution_count": 129,
     "metadata": {},
     "output_type": "execute_result"
    }
   ],
   "source": [
    "# Fixing the multivariate bug \n",
    "a = Value(3.0, label='a')\n",
    "b = a + a   ; b.label = 'b'\n",
    "b.backward()\n",
    "draw_dot(b)"
   ]
  },
  {
   "cell_type": "code",
   "execution_count": 130,
   "metadata": {},
   "outputs": [
    {
     "data": {
      "image/svg+xml": "<?xml version=\"1.0\" encoding=\"UTF-8\" standalone=\"no\"?>\n<!DOCTYPE svg PUBLIC \"-//W3C//DTD SVG 1.1//EN\"\n \"http://www.w3.org/Graphics/SVG/1.1/DTD/svg11.dtd\">\n<!-- Generated by graphviz version 7.1.0 (20230121.1956)\n -->\n<!-- Pages: 1 -->\n<svg width=\"839pt\" height=\"100pt\"\n viewBox=\"0.00 0.00 839.00 100.00\" xmlns=\"http://www.w3.org/2000/svg\" xmlns:xlink=\"http://www.w3.org/1999/xlink\">\n<g id=\"graph0\" class=\"graph\" transform=\"scale(1 1) rotate(0) translate(4 96)\">\n<polygon fill=\"white\" stroke=\"none\" points=\"-4,4 -4,-96 835,-96 835,4 -4,4\"/>\n<!-- 1801921108528 -->\n<g id=\"node1\" class=\"node\">\n<title>1801921108528</title>\n<polygon fill=\"none\" stroke=\"black\" points=\"641,-27.5 641,-63.5 831,-63.5 831,-27.5 641,-27.5\"/>\n<text text-anchor=\"middle\" x=\"651.5\" y=\"-41.8\" font-family=\"Times New Roman,serif\" font-size=\"14.00\">f</text>\n<polyline fill=\"none\" stroke=\"black\" points=\"662,-27.5 662,-63.5\"/>\n<text text-anchor=\"middle\" x=\"705\" y=\"-41.8\" font-family=\"Times New Roman,serif\" font-size=\"14.00\">data &#45;6.0000</text>\n<polyline fill=\"none\" stroke=\"black\" points=\"748,-27.5 748,-63.5\"/>\n<text text-anchor=\"middle\" x=\"789.5\" y=\"-41.8\" font-family=\"Times New Roman,serif\" font-size=\"14.00\">grad 1.0000</text>\n</g>\n<!-- 1801921108528* -->\n<g id=\"node2\" class=\"node\">\n<title>1801921108528*</title>\n<ellipse fill=\"none\" stroke=\"black\" cx=\"578\" cy=\"-45.5\" rx=\"27\" ry=\"18\"/>\n<text text-anchor=\"middle\" x=\"578\" y=\"-41.8\" font-family=\"Times New Roman,serif\" font-size=\"14.00\">*</text>\n</g>\n<!-- 1801921108528*&#45;&gt;1801921108528 -->\n<g id=\"edge1\" class=\"edge\">\n<title>1801921108528*&#45;&gt;1801921108528</title>\n<path fill=\"none\" stroke=\"black\" d=\"M605.46,-45.5C612.68,-45.5 620.95,-45.5 629.76,-45.5\"/>\n<polygon fill=\"black\" stroke=\"black\" points=\"629.64,-49 639.64,-45.5 629.64,-42 629.64,-49\"/>\n</g>\n<!-- 1801885912704 -->\n<g id=\"node3\" class=\"node\">\n<title>1801885912704</title>\n<polygon fill=\"none\" stroke=\"black\" points=\"2,-55.5 2,-91.5 194,-91.5 194,-55.5 2,-55.5\"/>\n<text text-anchor=\"middle\" x=\"14\" y=\"-69.8\" font-family=\"Times New Roman,serif\" font-size=\"14.00\">b</text>\n<polyline fill=\"none\" stroke=\"black\" points=\"26,-55.5 26,-91.5\"/>\n<text text-anchor=\"middle\" x=\"66.5\" y=\"-69.8\" font-family=\"Times New Roman,serif\" font-size=\"14.00\">data 3.0000</text>\n<polyline fill=\"none\" stroke=\"black\" points=\"107,-55.5 107,-91.5\"/>\n<text text-anchor=\"middle\" x=\"150.5\" y=\"-69.8\" font-family=\"Times New Roman,serif\" font-size=\"14.00\">grad &#45;8.0000</text>\n</g>\n<!-- 1801921108672+ -->\n<g id=\"node6\" class=\"node\">\n<title>1801921108672+</title>\n<ellipse fill=\"none\" stroke=\"black\" cx=\"259\" cy=\"-73.5\" rx=\"27\" ry=\"18\"/>\n<text text-anchor=\"middle\" x=\"259\" y=\"-69.8\" font-family=\"Times New Roman,serif\" font-size=\"14.00\">+</text>\n</g>\n<!-- 1801885912704&#45;&gt;1801921108672+ -->\n<g id=\"edge8\" class=\"edge\">\n<title>1801885912704&#45;&gt;1801921108672+</title>\n<path fill=\"none\" stroke=\"black\" d=\"M193.79,-73.5C203.08,-73.5 212.09,-73.5 220.27,-73.5\"/>\n<polygon fill=\"black\" stroke=\"black\" points=\"220.09,-77 230.09,-73.5 220.09,-70 220.09,-77\"/>\n</g>\n<!-- 1801921107664* -->\n<g id=\"node8\" class=\"node\">\n<title>1801921107664*</title>\n<ellipse fill=\"none\" stroke=\"black\" cx=\"259\" cy=\"-18.5\" rx=\"27\" ry=\"18\"/>\n<text text-anchor=\"middle\" x=\"259\" y=\"-14.8\" font-family=\"Times New Roman,serif\" font-size=\"14.00\">*</text>\n</g>\n<!-- 1801885912704&#45;&gt;1801921107664* -->\n<g id=\"edge4\" class=\"edge\">\n<title>1801885912704&#45;&gt;1801921107664*</title>\n<path fill=\"none\" stroke=\"black\" d=\"M168.56,-55.53C177.85,-52.72 187.21,-49.69 196,-46.5 206.08,-42.84 216.82,-38.26 226.47,-33.86\"/>\n<polygon fill=\"black\" stroke=\"black\" points=\"227.86,-37.08 235.44,-29.68 224.9,-30.73 227.86,-37.08\"/>\n</g>\n<!-- 1801885912224 -->\n<g id=\"node4\" class=\"node\">\n<title>1801885912224</title>\n<polygon fill=\"none\" stroke=\"black\" points=\"0,-0.5 0,-36.5 196,-36.5 196,-0.5 0,-0.5\"/>\n<text text-anchor=\"middle\" x=\"11.5\" y=\"-14.8\" font-family=\"Times New Roman,serif\" font-size=\"14.00\">a</text>\n<polyline fill=\"none\" stroke=\"black\" points=\"23,-0.5 23,-36.5\"/>\n<text text-anchor=\"middle\" x=\"66\" y=\"-14.8\" font-family=\"Times New Roman,serif\" font-size=\"14.00\">data &#45;2.0000</text>\n<polyline fill=\"none\" stroke=\"black\" points=\"109,-0.5 109,-36.5\"/>\n<text text-anchor=\"middle\" x=\"152.5\" y=\"-14.8\" font-family=\"Times New Roman,serif\" font-size=\"14.00\">grad &#45;3.0000</text>\n</g>\n<!-- 1801885912224&#45;&gt;1801921108672+ -->\n<g id=\"edge9\" class=\"edge\">\n<title>1801885912224&#45;&gt;1801921108672+</title>\n<path fill=\"none\" stroke=\"black\" d=\"M165.63,-36.5C175.87,-39.62 186.27,-42.99 196,-46.5 205.87,-50.06 216.41,-54.42 225.94,-58.59\"/>\n<polygon fill=\"black\" stroke=\"black\" points=\"224.25,-61.67 234.8,-62.56 227.1,-55.28 224.25,-61.67\"/>\n</g>\n<!-- 1801885912224&#45;&gt;1801921107664* -->\n<g id=\"edge6\" class=\"edge\">\n<title>1801885912224&#45;&gt;1801921107664*</title>\n<path fill=\"none\" stroke=\"black\" d=\"M195.62,-18.5C204.24,-18.5 212.57,-18.5 220.2,-18.5\"/>\n<polygon fill=\"black\" stroke=\"black\" points=\"220.02,-22 230.02,-18.5 220.02,-15 220.02,-22\"/>\n</g>\n<!-- 1801921108672 -->\n<g id=\"node5\" class=\"node\">\n<title>1801921108672</title>\n<polygon fill=\"none\" stroke=\"black\" points=\"323,-55.5 323,-91.5 514,-91.5 514,-55.5 323,-55.5\"/>\n<text text-anchor=\"middle\" x=\"334.5\" y=\"-69.8\" font-family=\"Times New Roman,serif\" font-size=\"14.00\">e</text>\n<polyline fill=\"none\" stroke=\"black\" points=\"346,-55.5 346,-91.5\"/>\n<text text-anchor=\"middle\" x=\"386.5\" y=\"-69.8\" font-family=\"Times New Roman,serif\" font-size=\"14.00\">data 1.0000</text>\n<polyline fill=\"none\" stroke=\"black\" points=\"427,-55.5 427,-91.5\"/>\n<text text-anchor=\"middle\" x=\"470.5\" y=\"-69.8\" font-family=\"Times New Roman,serif\" font-size=\"14.00\">grad &#45;6.0000</text>\n</g>\n<!-- 1801921108672&#45;&gt;1801921108528* -->\n<g id=\"edge7\" class=\"edge\">\n<title>1801921108672&#45;&gt;1801921108528*</title>\n<path fill=\"none\" stroke=\"black\" d=\"M513.85,-56.73C523.09,-55.08 532.03,-53.49 540.14,-52.05\"/>\n<polygon fill=\"black\" stroke=\"black\" points=\"540.64,-55.52 549.87,-50.32 539.42,-48.63 540.64,-55.52\"/>\n</g>\n<!-- 1801921108672+&#45;&gt;1801921108672 -->\n<g id=\"edge2\" class=\"edge\">\n<title>1801921108672+&#45;&gt;1801921108672</title>\n<path fill=\"none\" stroke=\"black\" d=\"M286.36,-73.5C293.83,-73.5 302.46,-73.5 311.64,-73.5\"/>\n<polygon fill=\"black\" stroke=\"black\" points=\"311.56,-77 321.56,-73.5 311.56,-70 311.56,-77\"/>\n</g>\n<!-- 1801921107664 -->\n<g id=\"node7\" class=\"node\">\n<title>1801921107664</title>\n<polygon fill=\"none\" stroke=\"black\" points=\"322,-0.5 322,-36.5 515,-36.5 515,-0.5 322,-0.5\"/>\n<text text-anchor=\"middle\" x=\"334\" y=\"-14.8\" font-family=\"Times New Roman,serif\" font-size=\"14.00\">d</text>\n<polyline fill=\"none\" stroke=\"black\" points=\"346,-0.5 346,-36.5\"/>\n<text text-anchor=\"middle\" x=\"389\" y=\"-14.8\" font-family=\"Times New Roman,serif\" font-size=\"14.00\">data &#45;6.0000</text>\n<polyline fill=\"none\" stroke=\"black\" points=\"432,-0.5 432,-36.5\"/>\n<text text-anchor=\"middle\" x=\"473.5\" y=\"-14.8\" font-family=\"Times New Roman,serif\" font-size=\"14.00\">grad 1.0000</text>\n</g>\n<!-- 1801921107664&#45;&gt;1801921108528* -->\n<g id=\"edge5\" class=\"edge\">\n<title>1801921107664&#45;&gt;1801921108528*</title>\n<path fill=\"none\" stroke=\"black\" d=\"M514.75,-34.83C523.7,-36.36 532.35,-37.85 540.21,-39.19\"/>\n<polygon fill=\"black\" stroke=\"black\" points=\"539.54,-42.63 549.98,-40.87 540.72,-35.73 539.54,-42.63\"/>\n</g>\n<!-- 1801921107664*&#45;&gt;1801921107664 -->\n<g id=\"edge3\" class=\"edge\">\n<title>1801921107664*&#45;&gt;1801921107664</title>\n<path fill=\"none\" stroke=\"black\" d=\"M286.36,-18.5C293.57,-18.5 301.84,-18.5 310.66,-18.5\"/>\n<polygon fill=\"black\" stroke=\"black\" points=\"310.56,-22 320.56,-18.5 310.56,-15 310.56,-22\"/>\n</g>\n</g>\n</svg>\n",
      "text/plain": [
       "<graphviz.graphs.Digraph at 0x1a388c506a0>"
      ]
     },
     "execution_count": 130,
     "metadata": {},
     "output_type": "execute_result"
    }
   ],
   "source": [
    "a = Value(-2.0, label='a')\n",
    "b = Value(3.0, label='b')\n",
    "d = a * b    ; d.label = 'd'\n",
    "e = a + b    ; e.label = 'e'\n",
    "f = d * e    ; f.label = 'f'\n",
    "\n",
    "f.backward()\n",
    "\n",
    "draw_dot(f)"
   ]
  },
  {
   "attachments": {},
   "cell_type": "markdown",
   "metadata": {},
   "source": [
    "Breaking tanh complex function into atomic functions (for exercise)"
   ]
  },
  {
   "cell_type": "code",
   "execution_count": 137,
   "metadata": {},
   "outputs": [
    {
     "data": {
      "image/svg+xml": "<?xml version=\"1.0\" encoding=\"UTF-8\" standalone=\"no\"?>\n<!DOCTYPE svg PUBLIC \"-//W3C//DTD SVG 1.1//EN\"\n \"http://www.w3.org/Graphics/SVG/1.1/DTD/svg11.dtd\">\n<!-- Generated by graphviz version 7.1.0 (20230121.1956)\n -->\n<!-- Pages: 1 -->\n<svg width=\"2965pt\" height=\"210pt\"\n viewBox=\"0.00 0.00 2965.00 210.00\" xmlns=\"http://www.w3.org/2000/svg\" xmlns:xlink=\"http://www.w3.org/1999/xlink\">\n<g id=\"graph0\" class=\"graph\" transform=\"scale(1 1) rotate(0) translate(4 206)\">\n<polygon fill=\"white\" stroke=\"none\" points=\"-4,4 -4,-206 2961,-206 2961,4 -4,4\"/>\n<!-- 1801921620000 -->\n<g id=\"node1\" class=\"node\">\n<title>1801921620000</title>\n<polygon fill=\"none\" stroke=\"black\" points=\"2015,-53.5 2015,-89.5 2203,-89.5 2203,-53.5 2015,-53.5\"/>\n<text text-anchor=\"middle\" x=\"2025\" y=\"-67.8\" font-family=\"Times New Roman,serif\" font-size=\"14.00\"> </text>\n<polyline fill=\"none\" stroke=\"black\" points=\"2035,-53.5 2035,-89.5\"/>\n<text text-anchor=\"middle\" x=\"2075.5\" y=\"-67.8\" font-family=\"Times New Roman,serif\" font-size=\"14.00\">data 6.8284</text>\n<polyline fill=\"none\" stroke=\"black\" points=\"2116,-53.5 2116,-89.5\"/>\n<text text-anchor=\"middle\" x=\"2159.5\" y=\"-67.8\" font-family=\"Times New Roman,serif\" font-size=\"14.00\">grad &#45;0.1036</text>\n</g>\n<!-- 1801921620336**&#45;1 -->\n<g id=\"node23\" class=\"node\">\n<title>1801921620336**&#45;1</title>\n<ellipse fill=\"none\" stroke=\"black\" cx=\"2331\" cy=\"-71.5\" rx=\"27\" ry=\"18\"/>\n<text text-anchor=\"middle\" x=\"2331\" y=\"-67.8\" font-family=\"Times New Roman,serif\" font-size=\"14.00\">**&#45;1</text>\n</g>\n<!-- 1801921620000&#45;&gt;1801921620336**&#45;1 -->\n<g id=\"edge25\" class=\"edge\">\n<title>1801921620000&#45;&gt;1801921620336**&#45;1</title>\n<path fill=\"none\" stroke=\"black\" d=\"M2202.98,-71.5C2234.42,-71.5 2267.77,-71.5 2292.4,-71.5\"/>\n<polygon fill=\"black\" stroke=\"black\" points=\"2292.23,-75 2302.23,-71.5 2292.23,-68 2292.23,-75\"/>\n</g>\n<!-- 1801921620000+ -->\n<g id=\"node2\" class=\"node\">\n<title>1801921620000+</title>\n<ellipse fill=\"none\" stroke=\"black\" cx=\"1952\" cy=\"-71.5\" rx=\"27\" ry=\"18\"/>\n<text text-anchor=\"middle\" x=\"1952\" y=\"-67.8\" font-family=\"Times New Roman,serif\" font-size=\"14.00\">+</text>\n</g>\n<!-- 1801921620000+&#45;&gt;1801921620000 -->\n<g id=\"edge1\" class=\"edge\">\n<title>1801921620000+&#45;&gt;1801921620000</title>\n<path fill=\"none\" stroke=\"black\" d=\"M1979.29,-71.5C1986.52,-71.5 1994.82,-71.5 2003.66,-71.5\"/>\n<polygon fill=\"black\" stroke=\"black\" points=\"2003.57,-75 2013.57,-71.5 2003.57,-68 2003.57,-75\"/>\n</g>\n<!-- 1801921561648 -->\n<g id=\"node3\" class=\"node\">\n<title>1801921561648</title>\n<polygon fill=\"none\" stroke=\"black\" points=\"328,-110.5 328,-146.5 550,-146.5 550,-110.5 328,-110.5\"/>\n<text text-anchor=\"middle\" x=\"354.5\" y=\"-124.8\" font-family=\"Times New Roman,serif\" font-size=\"14.00\">x1*w1</text>\n<polyline fill=\"none\" stroke=\"black\" points=\"381,-110.5 381,-146.5\"/>\n<text text-anchor=\"middle\" x=\"424\" y=\"-124.8\" font-family=\"Times New Roman,serif\" font-size=\"14.00\">data &#45;6.0000</text>\n<polyline fill=\"none\" stroke=\"black\" points=\"467,-110.5 467,-146.5\"/>\n<text text-anchor=\"middle\" x=\"508.5\" y=\"-124.8\" font-family=\"Times New Roman,serif\" font-size=\"14.00\">grad 0.5000</text>\n</g>\n<!-- 1801921562560+ -->\n<g id=\"node17\" class=\"node\">\n<title>1801921562560+</title>\n<ellipse fill=\"none\" stroke=\"black\" cx=\"613\" cy=\"-100.5\" rx=\"27\" ry=\"18\"/>\n<text text-anchor=\"middle\" x=\"613\" y=\"-96.8\" font-family=\"Times New Roman,serif\" font-size=\"14.00\">+</text>\n</g>\n<!-- 1801921561648&#45;&gt;1801921562560+ -->\n<g id=\"edge28\" class=\"edge\">\n<title>1801921561648&#45;&gt;1801921562560+</title>\n<path fill=\"none\" stroke=\"black\" d=\"M549.9,-110.61C558.91,-109.14 567.54,-107.74 575.34,-106.47\"/>\n<polygon fill=\"black\" stroke=\"black\" points=\"575.7,-109.95 585.01,-104.89 574.58,-103.05 575.7,-109.95\"/>\n</g>\n<!-- 1801921561648* -->\n<g id=\"node4\" class=\"node\">\n<title>1801921561648*</title>\n<ellipse fill=\"none\" stroke=\"black\" cx=\"265\" cy=\"-128.5\" rx=\"27\" ry=\"18\"/>\n<text text-anchor=\"middle\" x=\"265\" y=\"-124.8\" font-family=\"Times New Roman,serif\" font-size=\"14.00\">*</text>\n</g>\n<!-- 1801921561648*&#45;&gt;1801921561648 -->\n<g id=\"edge2\" class=\"edge\">\n<title>1801921561648*&#45;&gt;1801921561648</title>\n<path fill=\"none\" stroke=\"black\" d=\"M292.5,-128.5C299.65,-128.5 307.89,-128.5 316.72,-128.5\"/>\n<polygon fill=\"black\" stroke=\"black\" points=\"316.69,-132 326.68,-128.5 316.68,-125 316.69,-132\"/>\n</g>\n<!-- 1801921617984 -->\n<g id=\"node5\" class=\"node\">\n<title>1801921617984</title>\n<polygon fill=\"none\" stroke=\"black\" points=\"2239,-108.5 2239,-144.5 2423,-144.5 2423,-108.5 2239,-108.5\"/>\n<text text-anchor=\"middle\" x=\"2249\" y=\"-122.8\" font-family=\"Times New Roman,serif\" font-size=\"14.00\"> </text>\n<polyline fill=\"none\" stroke=\"black\" points=\"2259,-108.5 2259,-144.5\"/>\n<text text-anchor=\"middle\" x=\"2299.5\" y=\"-122.8\" font-family=\"Times New Roman,serif\" font-size=\"14.00\">data 4.8284</text>\n<polyline fill=\"none\" stroke=\"black\" points=\"2340,-108.5 2340,-144.5\"/>\n<text text-anchor=\"middle\" x=\"2381.5\" y=\"-122.8\" font-family=\"Times New Roman,serif\" font-size=\"14.00\">grad 0.1464</text>\n</g>\n<!-- 1801921620960* -->\n<g id=\"node28\" class=\"node\">\n<title>1801921620960*</title>\n<ellipse fill=\"none\" stroke=\"black\" cx=\"2706\" cy=\"-98.5\" rx=\"27\" ry=\"18\"/>\n<text text-anchor=\"middle\" x=\"2706\" y=\"-94.8\" font-family=\"Times New Roman,serif\" font-size=\"14.00\">*</text>\n</g>\n<!-- 1801921617984&#45;&gt;1801921620960* -->\n<g id=\"edge21\" class=\"edge\">\n<title>1801921617984&#45;&gt;1801921620960*</title>\n<path fill=\"none\" stroke=\"black\" d=\"M2422.77,-119.69C2501.28,-113.79 2610.86,-105.57 2667.61,-101.31\"/>\n<polygon fill=\"black\" stroke=\"black\" points=\"2667.67,-104.81 2677.38,-100.57 2667.15,-97.83 2667.67,-104.81\"/>\n</g>\n<!-- 1801921617984+ -->\n<g id=\"node6\" class=\"node\">\n<title>1801921617984+</title>\n<ellipse fill=\"none\" stroke=\"black\" cx=\"1952\" cy=\"-126.5\" rx=\"27\" ry=\"18\"/>\n<text text-anchor=\"middle\" x=\"1952\" y=\"-122.8\" font-family=\"Times New Roman,serif\" font-size=\"14.00\">+</text>\n</g>\n<!-- 1801921617984+&#45;&gt;1801921617984 -->\n<g id=\"edge3\" class=\"edge\">\n<title>1801921617984+&#45;&gt;1801921617984</title>\n<path fill=\"none\" stroke=\"black\" d=\"M1979.21,-126.5C2029.82,-126.5 2143.42,-126.5 2227.71,-126.5\"/>\n<polygon fill=\"black\" stroke=\"black\" points=\"2227.63,-130 2237.63,-126.5 2227.63,-123 2227.63,-130\"/>\n</g>\n<!-- 1801921562224 -->\n<g id=\"node7\" class=\"node\">\n<title>1801921562224</title>\n<polygon fill=\"none\" stroke=\"black\" points=\"2,-165.5 2,-201.5 200,-201.5 200,-165.5 2,-165.5\"/>\n<text text-anchor=\"middle\" x=\"17\" y=\"-179.8\" font-family=\"Times New Roman,serif\" font-size=\"14.00\">x1</text>\n<polyline fill=\"none\" stroke=\"black\" points=\"32,-165.5 32,-201.5\"/>\n<text text-anchor=\"middle\" x=\"72.5\" y=\"-179.8\" font-family=\"Times New Roman,serif\" font-size=\"14.00\">data 2.0000</text>\n<polyline fill=\"none\" stroke=\"black\" points=\"113,-165.5 113,-201.5\"/>\n<text text-anchor=\"middle\" x=\"156.5\" y=\"-179.8\" font-family=\"Times New Roman,serif\" font-size=\"14.00\">grad &#45;1.5000</text>\n</g>\n<!-- 1801921562224&#45;&gt;1801921561648* -->\n<g id=\"edge14\" class=\"edge\">\n<title>1801921562224&#45;&gt;1801921561648*</title>\n<path fill=\"none\" stroke=\"black\" d=\"M173.99,-165.56C183.48,-162.75 193.03,-159.71 202,-156.5 212.1,-152.88 222.83,-148.31 232.49,-143.91\"/>\n<polygon fill=\"black\" stroke=\"black\" points=\"233.88,-147.12 241.46,-139.72 230.92,-140.78 233.88,-147.12\"/>\n</g>\n<!-- 1801921563760 -->\n<g id=\"node8\" class=\"node\">\n<title>1801921563760</title>\n<polygon fill=\"none\" stroke=\"black\" points=\"4,-55.5 4,-91.5 198,-91.5 198,-55.5 4,-55.5\"/>\n<text text-anchor=\"middle\" x=\"19\" y=\"-69.8\" font-family=\"Times New Roman,serif\" font-size=\"14.00\">x2</text>\n<polyline fill=\"none\" stroke=\"black\" points=\"34,-55.5 34,-91.5\"/>\n<text text-anchor=\"middle\" x=\"74.5\" y=\"-69.8\" font-family=\"Times New Roman,serif\" font-size=\"14.00\">data 0.0000</text>\n<polyline fill=\"none\" stroke=\"black\" points=\"115,-55.5 115,-91.5\"/>\n<text text-anchor=\"middle\" x=\"156.5\" y=\"-69.8\" font-family=\"Times New Roman,serif\" font-size=\"14.00\">grad 0.5000</text>\n</g>\n<!-- 1801921561024* -->\n<g id=\"node12\" class=\"node\">\n<title>1801921561024*</title>\n<ellipse fill=\"none\" stroke=\"black\" cx=\"265\" cy=\"-73.5\" rx=\"27\" ry=\"18\"/>\n<text text-anchor=\"middle\" x=\"265\" y=\"-69.8\" font-family=\"Times New Roman,serif\" font-size=\"14.00\">*</text>\n</g>\n<!-- 1801921563760&#45;&gt;1801921561024* -->\n<g id=\"edge22\" class=\"edge\">\n<title>1801921563760&#45;&gt;1801921561024*</title>\n<path fill=\"none\" stroke=\"black\" d=\"M197.64,-73.5C207.72,-73.5 217.49,-73.5 226.29,-73.5\"/>\n<polygon fill=\"black\" stroke=\"black\" points=\"226.11,-77 236.11,-73.5 226.11,-70 226.11,-77\"/>\n</g>\n<!-- 1801921619568 -->\n<g id=\"node9\" class=\"node\">\n<title>1801921619568</title>\n<polygon fill=\"none\" stroke=\"black\" points=\"1700,-136.5 1700,-172.5 1889,-172.5 1889,-136.5 1700,-136.5\"/>\n<text text-anchor=\"middle\" x=\"1710\" y=\"-150.8\" font-family=\"Times New Roman,serif\" font-size=\"14.00\"> </text>\n<polyline fill=\"none\" stroke=\"black\" points=\"1720,-136.5 1720,-172.5\"/>\n<text text-anchor=\"middle\" x=\"1763\" y=\"-150.8\" font-family=\"Times New Roman,serif\" font-size=\"14.00\">data &#45;1.0000</text>\n<polyline fill=\"none\" stroke=\"black\" points=\"1806,-136.5 1806,-172.5\"/>\n<text text-anchor=\"middle\" x=\"1847.5\" y=\"-150.8\" font-family=\"Times New Roman,serif\" font-size=\"14.00\">grad 0.1464</text>\n</g>\n<!-- 1801921619568&#45;&gt;1801921617984+ -->\n<g id=\"edge17\" class=\"edge\">\n<title>1801921619568&#45;&gt;1801921617984+</title>\n<path fill=\"none\" stroke=\"black\" d=\"M1888.65,-137.73C1897.58,-136.12 1906.23,-134.56 1914.11,-133.14\"/>\n<polygon fill=\"black\" stroke=\"black\" points=\"1914.68,-136.6 1923.9,-131.38 1913.44,-129.71 1914.68,-136.6\"/>\n</g>\n<!-- 1801921561264 -->\n<g id=\"node10\" class=\"node\">\n<title>1801921561264</title>\n<polygon fill=\"none\" stroke=\"black\" points=\"719.5,-137.5 719.5,-173.5 907.5,-173.5 907.5,-137.5 719.5,-137.5\"/>\n<text text-anchor=\"middle\" x=\"731.5\" y=\"-151.8\" font-family=\"Times New Roman,serif\" font-size=\"14.00\">b</text>\n<polyline fill=\"none\" stroke=\"black\" points=\"743.5,-137.5 743.5,-173.5\"/>\n<text text-anchor=\"middle\" x=\"784\" y=\"-151.8\" font-family=\"Times New Roman,serif\" font-size=\"14.00\">data 6.8814</text>\n<polyline fill=\"none\" stroke=\"black\" points=\"824.5,-137.5 824.5,-173.5\"/>\n<text text-anchor=\"middle\" x=\"866\" y=\"-151.8\" font-family=\"Times New Roman,serif\" font-size=\"14.00\">grad 0.5000</text>\n</g>\n<!-- 1801921563952+ -->\n<g id=\"node21\" class=\"node\">\n<title>1801921563952+</title>\n<ellipse fill=\"none\" stroke=\"black\" cx=\"1014\" cy=\"-127.5\" rx=\"27\" ry=\"18\"/>\n<text text-anchor=\"middle\" x=\"1014\" y=\"-123.8\" font-family=\"Times New Roman,serif\" font-size=\"14.00\">+</text>\n</g>\n<!-- 1801921561264&#45;&gt;1801921563952+ -->\n<g id=\"edge27\" class=\"edge\">\n<title>1801921561264&#45;&gt;1801921563952+</title>\n<path fill=\"none\" stroke=\"black\" d=\"M907.36,-142.4C931.59,-138.98 956.33,-135.49 975.77,-132.75\"/>\n<polygon fill=\"black\" stroke=\"black\" points=\"976.23,-136.22 985.64,-131.36 975.25,-129.29 976.23,-136.22\"/>\n</g>\n<!-- 1801921561024 -->\n<g id=\"node11\" class=\"node\">\n<title>1801921561024</title>\n<polygon fill=\"none\" stroke=\"black\" points=\"330.5,-55.5 330.5,-91.5 547.5,-91.5 547.5,-55.5 330.5,-55.5\"/>\n<text text-anchor=\"middle\" x=\"357\" y=\"-69.8\" font-family=\"Times New Roman,serif\" font-size=\"14.00\">x2*w2</text>\n<polyline fill=\"none\" stroke=\"black\" points=\"383.5,-55.5 383.5,-91.5\"/>\n<text text-anchor=\"middle\" x=\"424\" y=\"-69.8\" font-family=\"Times New Roman,serif\" font-size=\"14.00\">data 0.0000</text>\n<polyline fill=\"none\" stroke=\"black\" points=\"464.5,-55.5 464.5,-91.5\"/>\n<text text-anchor=\"middle\" x=\"506\" y=\"-69.8\" font-family=\"Times New Roman,serif\" font-size=\"14.00\">grad 0.5000</text>\n</g>\n<!-- 1801921561024&#45;&gt;1801921562560+ -->\n<g id=\"edge20\" class=\"edge\">\n<title>1801921561024&#45;&gt;1801921562560+</title>\n<path fill=\"none\" stroke=\"black\" d=\"M547.46,-90.37C557.25,-91.91 566.64,-93.38 575.08,-94.7\"/>\n<polygon fill=\"black\" stroke=\"black\" points=\"574.41,-98.14 584.83,-96.23 575.49,-91.23 574.41,-98.14\"/>\n</g>\n<!-- 1801921561024*&#45;&gt;1801921561024 -->\n<g id=\"edge4\" class=\"edge\">\n<title>1801921561024*&#45;&gt;1801921561024</title>\n<path fill=\"none\" stroke=\"black\" d=\"M292.5,-73.5C300.37,-73.5 309.55,-73.5 319.4,-73.5\"/>\n<polygon fill=\"black\" stroke=\"black\" points=\"319.25,-77 329.25,-73.5 319.25,-70 319.25,-77\"/>\n</g>\n<!-- 1801921561312 -->\n<g id=\"node13\" class=\"node\">\n<title>1801921561312</title>\n<polygon fill=\"none\" stroke=\"black\" points=\"1390,-81.5 1390,-117.5 1574,-117.5 1574,-81.5 1390,-81.5\"/>\n<text text-anchor=\"middle\" x=\"1400\" y=\"-95.8\" font-family=\"Times New Roman,serif\" font-size=\"14.00\"> </text>\n<polyline fill=\"none\" stroke=\"black\" points=\"1410,-81.5 1410,-117.5\"/>\n<text text-anchor=\"middle\" x=\"1450.5\" y=\"-95.8\" font-family=\"Times New Roman,serif\" font-size=\"14.00\">data 1.7627</text>\n<polyline fill=\"none\" stroke=\"black\" points=\"1491,-81.5 1491,-117.5\"/>\n<text text-anchor=\"middle\" x=\"1532.5\" y=\"-95.8\" font-family=\"Times New Roman,serif\" font-size=\"14.00\">grad 0.2500</text>\n</g>\n<!-- 1801921619904exp -->\n<g id=\"node26\" class=\"node\">\n<title>1801921619904exp</title>\n<ellipse fill=\"none\" stroke=\"black\" cx=\"1637\" cy=\"-99.5\" rx=\"27\" ry=\"18\"/>\n<text text-anchor=\"middle\" x=\"1637\" y=\"-95.8\" font-family=\"Times New Roman,serif\" font-size=\"14.00\">exp</text>\n</g>\n<!-- 1801921561312&#45;&gt;1801921619904exp -->\n<g id=\"edge18\" class=\"edge\">\n<title>1801921561312&#45;&gt;1801921619904exp</title>\n<path fill=\"none\" stroke=\"black\" d=\"M1573.77,-99.5C1582.38,-99.5 1590.75,-99.5 1598.4,-99.5\"/>\n<polygon fill=\"black\" stroke=\"black\" points=\"1598.27,-103 1608.27,-99.5 1598.27,-96 1598.27,-103\"/>\n</g>\n<!-- 1801921561312* -->\n<g id=\"node14\" class=\"node\">\n<title>1801921561312*</title>\n<ellipse fill=\"none\" stroke=\"black\" cx=\"1327\" cy=\"-99.5\" rx=\"27\" ry=\"18\"/>\n<text text-anchor=\"middle\" x=\"1327\" y=\"-95.8\" font-family=\"Times New Roman,serif\" font-size=\"14.00\">*</text>\n</g>\n<!-- 1801921561312*&#45;&gt;1801921561312 -->\n<g id=\"edge5\" class=\"edge\">\n<title>1801921561312*&#45;&gt;1801921561312</title>\n<path fill=\"none\" stroke=\"black\" d=\"M1354.3,-99.5C1361.57,-99.5 1369.92,-99.5 1378.8,-99.5\"/>\n<polygon fill=\"black\" stroke=\"black\" points=\"1378.76,-103 1388.76,-99.5 1378.76,-96 1378.76,-103\"/>\n</g>\n<!-- 1801921563376 -->\n<g id=\"node15\" class=\"node\">\n<title>1801921563376</title>\n<polygon fill=\"none\" stroke=\"black\" points=\"0,-110.5 0,-146.5 202,-146.5 202,-110.5 0,-110.5\"/>\n<text text-anchor=\"middle\" x=\"16.5\" y=\"-124.8\" font-family=\"Times New Roman,serif\" font-size=\"14.00\">w1</text>\n<polyline fill=\"none\" stroke=\"black\" points=\"33,-110.5 33,-146.5\"/>\n<text text-anchor=\"middle\" x=\"76\" y=\"-124.8\" font-family=\"Times New Roman,serif\" font-size=\"14.00\">data &#45;3.0000</text>\n<polyline fill=\"none\" stroke=\"black\" points=\"119,-110.5 119,-146.5\"/>\n<text text-anchor=\"middle\" x=\"160.5\" y=\"-124.8\" font-family=\"Times New Roman,serif\" font-size=\"14.00\">grad 1.0000</text>\n</g>\n<!-- 1801921563376&#45;&gt;1801921561648* -->\n<g id=\"edge19\" class=\"edge\">\n<title>1801921563376&#45;&gt;1801921561648*</title>\n<path fill=\"none\" stroke=\"black\" d=\"M201.83,-128.5C210.46,-128.5 218.79,-128.5 226.4,-128.5\"/>\n<polygon fill=\"black\" stroke=\"black\" points=\"226.18,-132 236.18,-128.5 226.18,-125 226.18,-132\"/>\n</g>\n<!-- 1801921562560 -->\n<g id=\"node16\" class=\"node\">\n<title>1801921562560</title>\n<polygon fill=\"none\" stroke=\"black\" points=\"676,-82.5 676,-118.5 951,-118.5 951,-82.5 676,-82.5\"/>\n<text text-anchor=\"middle\" x=\"729\" y=\"-96.8\" font-family=\"Times New Roman,serif\" font-size=\"14.00\">x1*w1 + x2*w2</text>\n<polyline fill=\"none\" stroke=\"black\" points=\"782,-82.5 782,-118.5\"/>\n<text text-anchor=\"middle\" x=\"825\" y=\"-96.8\" font-family=\"Times New Roman,serif\" font-size=\"14.00\">data &#45;6.0000</text>\n<polyline fill=\"none\" stroke=\"black\" points=\"868,-82.5 868,-118.5\"/>\n<text text-anchor=\"middle\" x=\"909.5\" y=\"-96.8\" font-family=\"Times New Roman,serif\" font-size=\"14.00\">grad 0.5000</text>\n</g>\n<!-- 1801921562560&#45;&gt;1801921563952+ -->\n<g id=\"edge26\" class=\"edge\">\n<title>1801921562560&#45;&gt;1801921563952+</title>\n<path fill=\"none\" stroke=\"black\" d=\"M946.63,-118.47C957.13,-119.9 967.07,-121.25 975.91,-122.46\"/>\n<polygon fill=\"black\" stroke=\"black\" points=\"975.36,-125.91 985.74,-123.79 976.3,-118.98 975.36,-125.91\"/>\n</g>\n<!-- 1801921562560+&#45;&gt;1801921562560 -->\n<g id=\"edge6\" class=\"edge\">\n<title>1801921562560+&#45;&gt;1801921562560</title>\n<path fill=\"none\" stroke=\"black\" d=\"M640.36,-100.5C647.56,-100.5 655.89,-100.5 664.94,-100.5\"/>\n<polygon fill=\"black\" stroke=\"black\" points=\"664.78,-104 674.78,-100.5 664.78,-97 664.78,-104\"/>\n</g>\n<!-- 1801921561840 -->\n<g id=\"node18\" class=\"node\">\n<title>1801921561840</title>\n<polygon fill=\"none\" stroke=\"black\" points=\"2.5,-0.5 2.5,-36.5 199.5,-36.5 199.5,-0.5 2.5,-0.5\"/>\n<text text-anchor=\"middle\" x=\"19\" y=\"-14.8\" font-family=\"Times New Roman,serif\" font-size=\"14.00\">w2</text>\n<polyline fill=\"none\" stroke=\"black\" points=\"35.5,-0.5 35.5,-36.5\"/>\n<text text-anchor=\"middle\" x=\"76\" y=\"-14.8\" font-family=\"Times New Roman,serif\" font-size=\"14.00\">data 1.0000</text>\n<polyline fill=\"none\" stroke=\"black\" points=\"116.5,-0.5 116.5,-36.5\"/>\n<text text-anchor=\"middle\" x=\"158\" y=\"-14.8\" font-family=\"Times New Roman,serif\" font-size=\"14.00\">grad 0.0000</text>\n</g>\n<!-- 1801921561840&#45;&gt;1801921561024* -->\n<g id=\"edge12\" class=\"edge\">\n<title>1801921561840&#45;&gt;1801921561024*</title>\n<path fill=\"none\" stroke=\"black\" d=\"M173.99,-36.44C183.48,-39.25 193.03,-42.29 202,-45.5 212.1,-49.12 222.83,-53.69 232.49,-58.09\"/>\n<polygon fill=\"black\" stroke=\"black\" points=\"230.92,-61.22 241.46,-62.28 233.88,-54.88 230.92,-61.22\"/>\n</g>\n<!-- 1801921620240 -->\n<g id=\"node19\" class=\"node\">\n<title>1801921620240</title>\n<polygon fill=\"none\" stroke=\"black\" points=\"1700.5,-26.5 1700.5,-62.5 1888.5,-62.5 1888.5,-26.5 1700.5,-26.5\"/>\n<text text-anchor=\"middle\" x=\"1710.5\" y=\"-40.8\" font-family=\"Times New Roman,serif\" font-size=\"14.00\"> </text>\n<polyline fill=\"none\" stroke=\"black\" points=\"1720.5,-26.5 1720.5,-62.5\"/>\n<text text-anchor=\"middle\" x=\"1761\" y=\"-40.8\" font-family=\"Times New Roman,serif\" font-size=\"14.00\">data 1.0000</text>\n<polyline fill=\"none\" stroke=\"black\" points=\"1801.5,-26.5 1801.5,-62.5\"/>\n<text text-anchor=\"middle\" x=\"1845\" y=\"-40.8\" font-family=\"Times New Roman,serif\" font-size=\"14.00\">grad &#45;0.1036</text>\n</g>\n<!-- 1801921620240&#45;&gt;1801921620000+ -->\n<g id=\"edge24\" class=\"edge\">\n<title>1801921620240&#45;&gt;1801921620000+</title>\n<path fill=\"none\" stroke=\"black\" d=\"M1888.2,-60.6C1897.38,-62.19 1906.27,-63.73 1914.33,-65.13\"/>\n<polygon fill=\"black\" stroke=\"black\" points=\"1913.54,-68.55 1923.99,-66.81 1914.74,-61.65 1913.54,-68.55\"/>\n</g>\n<!-- 1801921563952 -->\n<g id=\"node20\" class=\"node\">\n<title>1801921563952</title>\n<polygon fill=\"none\" stroke=\"black\" points=\"1077,-109.5 1077,-145.5 1264,-145.5 1264,-109.5 1077,-109.5\"/>\n<text text-anchor=\"middle\" x=\"1088.5\" y=\"-123.8\" font-family=\"Times New Roman,serif\" font-size=\"14.00\">n</text>\n<polyline fill=\"none\" stroke=\"black\" points=\"1100,-109.5 1100,-145.5\"/>\n<text text-anchor=\"middle\" x=\"1140.5\" y=\"-123.8\" font-family=\"Times New Roman,serif\" font-size=\"14.00\">data 0.8814</text>\n<polyline fill=\"none\" stroke=\"black\" points=\"1181,-109.5 1181,-145.5\"/>\n<text text-anchor=\"middle\" x=\"1222.5\" y=\"-123.8\" font-family=\"Times New Roman,serif\" font-size=\"14.00\">grad 0.5000</text>\n</g>\n<!-- 1801921563952&#45;&gt;1801921561312* -->\n<g id=\"edge11\" class=\"edge\">\n<title>1801921563952&#45;&gt;1801921561312*</title>\n<path fill=\"none\" stroke=\"black\" d=\"M1263.6,-110.81C1272.72,-109.16 1281.55,-107.56 1289.56,-106.1\"/>\n<polygon fill=\"black\" stroke=\"black\" points=\"1289.94,-109.59 1299.16,-104.36 1288.7,-102.7 1289.94,-109.59\"/>\n</g>\n<!-- 1801921563952+&#45;&gt;1801921563952 -->\n<g id=\"edge7\" class=\"edge\">\n<title>1801921563952+&#45;&gt;1801921563952</title>\n<path fill=\"none\" stroke=\"black\" d=\"M1041.21,-127.5C1048.47,-127.5 1056.83,-127.5 1065.71,-127.5\"/>\n<polygon fill=\"black\" stroke=\"black\" points=\"1065.7,-131 1075.7,-127.5 1065.7,-124 1065.7,-131\"/>\n</g>\n<!-- 1801921620336 -->\n<g id=\"node22\" class=\"node\">\n<title>1801921620336</title>\n<polygon fill=\"none\" stroke=\"black\" points=\"2459,-57.5 2459,-93.5 2643,-93.5 2643,-57.5 2459,-57.5\"/>\n<text text-anchor=\"middle\" x=\"2469\" y=\"-71.8\" font-family=\"Times New Roman,serif\" font-size=\"14.00\"> </text>\n<polyline fill=\"none\" stroke=\"black\" points=\"2479,-57.5 2479,-93.5\"/>\n<text text-anchor=\"middle\" x=\"2519.5\" y=\"-71.8\" font-family=\"Times New Roman,serif\" font-size=\"14.00\">data 0.1464</text>\n<polyline fill=\"none\" stroke=\"black\" points=\"2560,-57.5 2560,-93.5\"/>\n<text text-anchor=\"middle\" x=\"2601.5\" y=\"-71.8\" font-family=\"Times New Roman,serif\" font-size=\"14.00\">grad 4.8284</text>\n</g>\n<!-- 1801921620336&#45;&gt;1801921620960* -->\n<g id=\"edge23\" class=\"edge\">\n<title>1801921620336&#45;&gt;1801921620960*</title>\n<path fill=\"none\" stroke=\"black\" d=\"M2642.77,-89.15C2651.66,-90.48 2660.28,-91.78 2668.13,-92.96\"/>\n<polygon fill=\"black\" stroke=\"black\" points=\"2667.49,-96.4 2677.89,-94.43 2668.53,-89.48 2667.49,-96.4\"/>\n</g>\n<!-- 1801921620336**&#45;1&#45;&gt;1801921620336 -->\n<g id=\"edge8\" class=\"edge\">\n<title>1801921620336**&#45;1&#45;&gt;1801921620336</title>\n<path fill=\"none\" stroke=\"black\" d=\"M2358.3,-71.98C2380.88,-72.4 2414.96,-73.02 2448.16,-73.63\"/>\n<polygon fill=\"black\" stroke=\"black\" points=\"2447.79,-77.12 2457.85,-73.81 2447.91,-70.13 2447.79,-77.12\"/>\n</g>\n<!-- 1801921564576 -->\n<g id=\"node24\" class=\"node\">\n<title>1801921564576</title>\n<polygon fill=\"none\" stroke=\"black\" points=\"1078.5,-54.5 1078.5,-90.5 1262.5,-90.5 1262.5,-54.5 1078.5,-54.5\"/>\n<text text-anchor=\"middle\" x=\"1088.5\" y=\"-68.8\" font-family=\"Times New Roman,serif\" font-size=\"14.00\"> </text>\n<polyline fill=\"none\" stroke=\"black\" points=\"1098.5,-54.5 1098.5,-90.5\"/>\n<text text-anchor=\"middle\" x=\"1139\" y=\"-68.8\" font-family=\"Times New Roman,serif\" font-size=\"14.00\">data 2.0000</text>\n<polyline fill=\"none\" stroke=\"black\" points=\"1179.5,-54.5 1179.5,-90.5\"/>\n<text text-anchor=\"middle\" x=\"1221\" y=\"-68.8\" font-family=\"Times New Roman,serif\" font-size=\"14.00\">grad 0.2203</text>\n</g>\n<!-- 1801921564576&#45;&gt;1801921561312* -->\n<g id=\"edge13\" class=\"edge\">\n<title>1801921564576&#45;&gt;1801921561312*</title>\n<path fill=\"none\" stroke=\"black\" d=\"M1262.27,-88.36C1271.73,-90.02 1280.92,-91.62 1289.23,-93.07\"/>\n<polygon fill=\"black\" stroke=\"black\" points=\"1288.4,-96.48 1298.85,-94.76 1289.6,-89.59 1288.4,-96.48\"/>\n</g>\n<!-- 1801921619904 -->\n<g id=\"node25\" class=\"node\">\n<title>1801921619904</title>\n<polygon fill=\"none\" stroke=\"black\" points=\"1702.5,-81.5 1702.5,-117.5 1886.5,-117.5 1886.5,-81.5 1702.5,-81.5\"/>\n<text text-anchor=\"middle\" x=\"1712.5\" y=\"-95.8\" font-family=\"Times New Roman,serif\" font-size=\"14.00\"> </text>\n<polyline fill=\"none\" stroke=\"black\" points=\"1722.5,-81.5 1722.5,-117.5\"/>\n<text text-anchor=\"middle\" x=\"1763\" y=\"-95.8\" font-family=\"Times New Roman,serif\" font-size=\"14.00\">data 5.8284</text>\n<polyline fill=\"none\" stroke=\"black\" points=\"1803.5,-81.5 1803.5,-117.5\"/>\n<text text-anchor=\"middle\" x=\"1845\" y=\"-95.8\" font-family=\"Times New Roman,serif\" font-size=\"14.00\">grad 0.0429</text>\n</g>\n<!-- 1801921619904&#45;&gt;1801921620000+ -->\n<g id=\"edge15\" class=\"edge\">\n<title>1801921619904&#45;&gt;1801921620000+</title>\n<path fill=\"none\" stroke=\"black\" d=\"M1886.4,-83.13C1896.27,-81.35 1905.85,-79.63 1914.48,-78.08\"/>\n<polygon fill=\"black\" stroke=\"black\" points=\"1914.88,-81.56 1924.1,-76.34 1913.64,-74.67 1914.88,-81.56\"/>\n</g>\n<!-- 1801921619904&#45;&gt;1801921617984+ -->\n<g id=\"edge16\" class=\"edge\">\n<title>1801921619904&#45;&gt;1801921617984+</title>\n<path fill=\"none\" stroke=\"black\" d=\"M1886.4,-115.28C1896.27,-117 1905.85,-118.66 1914.48,-120.16\"/>\n<polygon fill=\"black\" stroke=\"black\" points=\"1913.65,-123.57 1924.1,-121.83 1914.84,-116.67 1913.65,-123.57\"/>\n</g>\n<!-- 1801921619904exp&#45;&gt;1801921619904 -->\n<g id=\"edge9\" class=\"edge\">\n<title>1801921619904exp&#45;&gt;1801921619904</title>\n<path fill=\"none\" stroke=\"black\" d=\"M1664.38,-99.5C1672.31,-99.5 1681.53,-99.5 1691.33,-99.5\"/>\n<polygon fill=\"black\" stroke=\"black\" points=\"1691.09,-103 1701.09,-99.5 1691.09,-96 1691.09,-103\"/>\n</g>\n<!-- 1801921620960 -->\n<g id=\"node27\" class=\"node\">\n<title>1801921620960</title>\n<polygon fill=\"none\" stroke=\"black\" points=\"2769,-80.5 2769,-116.5 2957,-116.5 2957,-80.5 2769,-80.5\"/>\n<text text-anchor=\"middle\" x=\"2781\" y=\"-94.8\" font-family=\"Times New Roman,serif\" font-size=\"14.00\">o</text>\n<polyline fill=\"none\" stroke=\"black\" points=\"2793,-80.5 2793,-116.5\"/>\n<text text-anchor=\"middle\" x=\"2833.5\" y=\"-94.8\" font-family=\"Times New Roman,serif\" font-size=\"14.00\">data 0.7071</text>\n<polyline fill=\"none\" stroke=\"black\" points=\"2874,-80.5 2874,-116.5\"/>\n<text text-anchor=\"middle\" x=\"2915.5\" y=\"-94.8\" font-family=\"Times New Roman,serif\" font-size=\"14.00\">grad 1.0000</text>\n</g>\n<!-- 1801921620960*&#45;&gt;1801921620960 -->\n<g id=\"edge10\" class=\"edge\">\n<title>1801921620960*&#45;&gt;1801921620960</title>\n<path fill=\"none\" stroke=\"black\" d=\"M2733.29,-98.5C2740.52,-98.5 2748.82,-98.5 2757.66,-98.5\"/>\n<polygon fill=\"black\" stroke=\"black\" points=\"2757.57,-102 2767.57,-98.5 2757.57,-95 2757.57,-102\"/>\n</g>\n</g>\n</svg>\n",
      "text/plain": [
       "<graphviz.graphs.Digraph at 0x1a38ae5e520>"
      ]
     },
     "execution_count": 137,
     "metadata": {},
     "output_type": "execute_result"
    }
   ],
   "source": [
    "# inputs x1,x2\n",
    "x1 = Value(2.0, label='x1')\n",
    "x2 = Value(0.0, label='x2')\n",
    "# weights w1,w2\n",
    "w1 = Value(-3.0, label='w1')\n",
    "w2 = Value(1.0, label='w2')\n",
    "# bias of the neuron\n",
    "b = Value(6.8813735870195432, label='b')\n",
    "# x1*w1 + x2*w2 + b\n",
    "x1w1 = x1*w1; x1w1.label = 'x1*w1'\n",
    "x2w2 = x2*w2; x2w2.label = 'x2*w2'\n",
    "x1w1x2w2 = x1w1 + x2w2; x1w1x2w2.label = 'x1*w1 + x2*w2'\n",
    "n = x1w1x2w2 + b; n.label = 'n'\n",
    "##################################\n",
    "# Redefine tanh by e^2x-1 / e^2x+1\n",
    "e = (2*n).exp()\n",
    "o = (e-1) / (e+1); o.label = 'o'\n",
    "##################################\n",
    "o.backward()\n",
    "draw_dot(o)"
   ]
  },
  {
   "cell_type": "code",
   "execution_count": null,
   "metadata": {},
   "outputs": [],
   "source": []
  }
 ],
 "metadata": {
  "kernelspec": {
   "display_name": "Python 3",
   "language": "python",
   "name": "python3"
  },
  "language_info": {
   "codemirror_mode": {
    "name": "ipython",
    "version": 3
   },
   "file_extension": ".py",
   "mimetype": "text/x-python",
   "name": "python",
   "nbconvert_exporter": "python",
   "pygments_lexer": "ipython3",
   "version": "3.9.1"
  },
  "orig_nbformat": 4
 },
 "nbformat": 4,
 "nbformat_minor": 2
}
